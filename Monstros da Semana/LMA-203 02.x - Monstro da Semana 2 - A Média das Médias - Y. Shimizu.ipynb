{
 "cells": [
  {
   "cell_type": "markdown",
   "id": "407a7e7c",
   "metadata": {},
   "source": [
    "## Introdução\n",
    "\n",
    "Em estatística, existem duas análises de dados possíveis: a populacional e a amostral. O estudo da população é referente à coleta e análise de dados de todos os indivíduos ou elementos do conjunto alvo de intresse, enquanto a amostra é referente à apenas uma parcela ou subconjunto da população. O estudo da população é sempre preferível na análise estatística, entretanto, tal processo é quase sempre inviável, de modo que o estudo de amostras se mostra predominante e mais realista.\n",
    "\n",
    "Neste trabalho, foi feita uma comparação de estatísticas de um conjunto de dados disponível na biblioteca Seaborn do Python sobre a duração de erupções do geiser de Old Faithful (EUA) em seu todo (população) e de 100 amostragens aleatórias com 25~75% desse mesmo conjunto de dados, calculando a média de cada um deles e , posteriormente, calcualndo a média dessas médias. Foi feita, também, o cálculo do mínimo, máximo e desvio padrão das médias das amostragens, a fim de melhor comparação. Para isso, contou-se com o apoio das bibliotecas Numpy e Pandas, além da biblioteca Seaborn, da qual tiramos o dataset analisado."
   ]
  },
  {
   "cell_type": "code",
   "execution_count": 25,
   "id": "4a5eff44",
   "metadata": {
    "scrolled": true
   },
   "outputs": [
    {
     "data": {
      "text/html": [
       "<div>\n",
       "<style scoped>\n",
       "    .dataframe tbody tr th:only-of-type {\n",
       "        vertical-align: middle;\n",
       "    }\n",
       "\n",
       "    .dataframe tbody tr th {\n",
       "        vertical-align: top;\n",
       "    }\n",
       "\n",
       "    .dataframe thead th {\n",
       "        text-align: right;\n",
       "    }\n",
       "</style>\n",
       "<table border=\"1\" class=\"dataframe\">\n",
       "  <thead>\n",
       "    <tr style=\"text-align: right;\">\n",
       "      <th></th>\n",
       "      <th>duration</th>\n",
       "      <th>waiting</th>\n",
       "      <th>kind</th>\n",
       "    </tr>\n",
       "  </thead>\n",
       "  <tbody>\n",
       "    <tr>\n",
       "      <th>0</th>\n",
       "      <td>3.600</td>\n",
       "      <td>79</td>\n",
       "      <td>long</td>\n",
       "    </tr>\n",
       "    <tr>\n",
       "      <th>1</th>\n",
       "      <td>1.800</td>\n",
       "      <td>54</td>\n",
       "      <td>short</td>\n",
       "    </tr>\n",
       "    <tr>\n",
       "      <th>2</th>\n",
       "      <td>3.333</td>\n",
       "      <td>74</td>\n",
       "      <td>long</td>\n",
       "    </tr>\n",
       "    <tr>\n",
       "      <th>3</th>\n",
       "      <td>2.283</td>\n",
       "      <td>62</td>\n",
       "      <td>short</td>\n",
       "    </tr>\n",
       "    <tr>\n",
       "      <th>4</th>\n",
       "      <td>4.533</td>\n",
       "      <td>85</td>\n",
       "      <td>long</td>\n",
       "    </tr>\n",
       "    <tr>\n",
       "      <th>...</th>\n",
       "      <td>...</td>\n",
       "      <td>...</td>\n",
       "      <td>...</td>\n",
       "    </tr>\n",
       "    <tr>\n",
       "      <th>267</th>\n",
       "      <td>4.117</td>\n",
       "      <td>81</td>\n",
       "      <td>long</td>\n",
       "    </tr>\n",
       "    <tr>\n",
       "      <th>268</th>\n",
       "      <td>2.150</td>\n",
       "      <td>46</td>\n",
       "      <td>short</td>\n",
       "    </tr>\n",
       "    <tr>\n",
       "      <th>269</th>\n",
       "      <td>4.417</td>\n",
       "      <td>90</td>\n",
       "      <td>long</td>\n",
       "    </tr>\n",
       "    <tr>\n",
       "      <th>270</th>\n",
       "      <td>1.817</td>\n",
       "      <td>46</td>\n",
       "      <td>short</td>\n",
       "    </tr>\n",
       "    <tr>\n",
       "      <th>271</th>\n",
       "      <td>4.467</td>\n",
       "      <td>74</td>\n",
       "      <td>long</td>\n",
       "    </tr>\n",
       "  </tbody>\n",
       "</table>\n",
       "<p>272 rows × 3 columns</p>\n",
       "</div>"
      ],
      "text/plain": [
       "     duration  waiting   kind\n",
       "0       3.600       79   long\n",
       "1       1.800       54  short\n",
       "2       3.333       74   long\n",
       "3       2.283       62  short\n",
       "4       4.533       85   long\n",
       "..        ...      ...    ...\n",
       "267     4.117       81   long\n",
       "268     2.150       46  short\n",
       "269     4.417       90   long\n",
       "270     1.817       46  short\n",
       "271     4.467       74   long\n",
       "\n",
       "[272 rows x 3 columns]"
      ]
     },
     "execution_count": 25,
     "metadata": {},
     "output_type": "execute_result"
    }
   ],
   "source": [
    "import seaborn as sb\n",
    "import numpy as np\n",
    "import pandas as pd\n",
    "\n",
    "df = sb.load_dataset(\"geyser\")\n",
    "df"
   ]
  },
  {
   "cell_type": "code",
   "execution_count": 26,
   "id": "ecc81dab",
   "metadata": {},
   "outputs": [
    {
     "name": "stdout",
     "output_type": "stream",
     "text": [
      "[3.55, 3.559, 3.508, 3.554, 3.415, 3.661, 3.411, 3.504, 3.468, 3.43, 3.374, 3.476, 3.556, 3.567, 3.452, 3.525, 3.597, 3.476, 3.512, 3.45, 3.476, 3.583, 3.424, 3.358, 3.465, 3.393, 3.461, 3.542, 3.642, 3.505, 3.551, 3.487, 3.483, 3.468, 3.428, 3.425, 3.385, 3.369, 3.567, 3.481, 3.485, 3.387, 3.581, 3.48, 3.483, 3.564, 3.581, 3.59, 3.491, 3.683, 3.468, 3.409, 3.397, 3.419, 3.604, 3.44, 3.475, 3.462, 3.416, 3.554, 3.606, 3.542, 3.566, 3.382, 3.454, 3.678, 3.405, 3.516, 3.5, 3.668, 3.547, 3.293, 3.567, 3.383, 3.492, 3.565, 3.417, 3.472, 3.402, 3.464, 3.631, 3.51, 3.407, 3.343, 3.585, 3.47, 3.439, 3.615, 3.428, 3.524, 3.436, 3.526, 3.481, 3.55, 3.476, 3.527, 3.445, 3.565, 3.483, 3.531]\n"
     ]
    }
   ],
   "source": [
    "medias =[]\n",
    "for i in range(100):\n",
    "    amostra = df[\"duration\"].sample(100)\n",
    "    media = round(np.mean(amostra),3)\n",
    "    medias.append(media)\n",
    "    \n",
    "print(medias)\n"
   ]
  },
  {
   "cell_type": "code",
   "execution_count": 27,
   "id": "5a7316c6",
   "metadata": {},
   "outputs": [
    {
     "name": "stdout",
     "output_type": "stream",
     "text": [
      "A média da população da duração dos gêiseres é de 3.4877830882352936 min.\n",
      "A média das médias de 100 amostras aleatórias dentre a população da duração dos gêiseres é de 3.49398 min.\n",
      "As médias mínima e máxima dentre as amostras aleatórias são: 3.293 min e 3.683 min\n",
      "O desvio padrão das médias de 100 amostras aleatórias dentre a população da duração dos gêiseres é de 0.0790363182340878 min.\n"
     ]
    }
   ],
   "source": [
    "media = np.mean(df[\"duration\"])\n",
    "media_medias = np.mean(medias)\n",
    "print(f\"A média da população da duração dos gêiseres é de {media} min.\")\n",
    "print(f\"A média das médias de 100 amostras aleatórias dentre a população da duração dos gêiseres é de {media_medias} min.\")\n",
    "print(f\"As médias mínima e máxima dentre as amostras aleatórias são: {min(medias)} min e {max(medias)} min\")\n",
    "\n",
    "print(f\"O desvio padrão das médias de 100 amostras aleatórias dentre a população da duração dos gêiseres é de {np.std(medias)} min.\")"
   ]
  },
  {
   "cell_type": "markdown",
   "id": "5b0dcd14",
   "metadata": {},
   "source": [
    "### Discussões\n",
    "\n",
    "Nesse processo de cálculo de média de 100 amostragens aleatórias, pudemos identificar que não há grandes variações entre as médias obtidas, visto que todas se encontram no intervalo [3.293 , 3.683], sendo a média da população de 3.488. A média das médias das amostras (3.494) se aproxima muito da média da população, com apenas 0.006 minutos de diferença, e o desvio padrão (erro) das médias também é muito próximo dé zero (0.079 min). Desse modo, é notável o quanto estatísticas de amostragem se aproximam das estatísticas da população, comprovando que a análise de dados amostrais é efetivo para estudo geral de uma população."
   ]
  },
  {
   "cell_type": "markdown",
   "id": "86a9244e",
   "metadata": {},
   "source": [
    "## Conclusão\n",
    "Assim, com a análise das médias de 100 amostragens aleatórias em comparação com a média da população de dados de duração de erupções do geiser Old Faithful (EUA), foi possível compreender o estudo estatístico através de amostras quando não é viável o estudo de toda a população, visto que, empiricamente, obtvemos resultados extremamente próximos para as médias da população e das amostras (3.488 e 3.494). Além disso, o desvio padrão entre as médias obtidas na amostragem se mostra mínimo, reforçando que as estatísticas de cada amostra se arpoxima - e muito - das estatísticas da população."
   ]
  },
  {
   "cell_type": "markdown",
   "id": "cee8465f",
   "metadata": {},
   "source": [
    "### Referências \n",
    "CASSAR, DR. LMA-203 2.0 População, amostra e correlação. Microsoft Teams, T03-LMA-203 - Probabilidade e Estatística, Material de Aula. \n",
    "\n",
    "Waskon, M. Seaborn: Statistical data visualization. Disponível em: https://seaborn.pydata.org/.\n",
    "\n",
    "Waskon, M. Seaborn Data: Data repository for seaborn examples. GitHub, Inc. Disponível em: https://github.com/mwaskom/seaborn-data.\n",
    "\n",
    "Old Faithful Geyser Data. Disponível em: https://stat.ethz.ch/R-manual/R-devel/library/datasets/html/faithful.html.\n",
    "\n",
    "Harris, C.R., Millman, K.J., van der Walt, S.J. et al. Array programming with NumPy. Disponível em: https://numpy.org/.\n",
    "\n",
    "McKinney, W. Pandas: Data structures for statistical computing in python. Disponível em: https://pandas.pydata.org/."
   ]
  }
 ],
 "metadata": {
  "kernelspec": {
   "display_name": "Python 3 (ipykernel)",
   "language": "python",
   "name": "python3"
  },
  "language_info": {
   "codemirror_mode": {
    "name": "ipython",
    "version": 3
   },
   "file_extension": ".py",
   "mimetype": "text/x-python",
   "name": "python",
   "nbconvert_exporter": "python",
   "pygments_lexer": "ipython3",
   "version": "3.11.5"
  }
 },
 "nbformat": 4,
 "nbformat_minor": 5
}
