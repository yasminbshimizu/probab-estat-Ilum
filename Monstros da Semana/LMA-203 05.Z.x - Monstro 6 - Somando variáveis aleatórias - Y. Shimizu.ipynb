{
 "cells": [
  {
   "cell_type": "markdown",
   "id": "3641b2b4",
   "metadata": {},
   "source": [
    "## Introdução\n",
    "\n",
    "Buscando compreender a soma de variáveis aleatória e de suas estatísticas descritivas, neste trabalho, foi utilizado dois pares de variáveis aleatórias com mesmo tamanho, as quais foram somadas numa terceira variável aleatória Z = X1+X2, calculando média, variância e desvio padrão de cada uma das três variáveis aleatórias.\n",
    "\n",
    "Para o primeiro par, foi feita uma simulação computacional de uma jogada de RPG, na qual o jogador tem que rolar d20 para o teste e um d4 para ganhar um bônus, repetida 100 vezes. Assim, consideramos X1 como os testes no d20 e X2 como os bônus do d4. Desse modo, obtivemos duas variáveis aleatórias que não são correlacionadas pelo sorteio aleatório de números.\n",
    "\n",
    "Para o segundo par, foi utilizado um dataset da biblioteca _Seaborn_, o qual contém 272 observações de dados do Geyser Old Faithful nos EUA, utilizando sua coluna sobre duração e espera das erupções do gêiser como X1 e X2, visando analisar a soma de variáveis correlacionadas e suas estatísticas descritivas."
   ]
  },
  {
   "cell_type": "markdown",
   "id": "b00a05d7",
   "metadata": {},
   "source": [
    "### Metodologia\n",
    "\n",
    "Primeiramente, importamos as bibliotecas que serão utilizadas:"
   ]
  },
  {
   "cell_type": "code",
   "execution_count": 1,
   "id": "715ff113",
   "metadata": {},
   "outputs": [],
   "source": [
    "import random as rd\n",
    "import numpy as np\n",
    "import statistics as st\n",
    "import pandas as pd\n",
    "import seaborn as sb"
   ]
  },
  {
   "cell_type": "markdown",
   "id": "42e43e6f",
   "metadata": {},
   "source": [
    "#### Situação 1: variáveis aleatórias não correlacionadas\n",
    "\n",
    "Partimos, então, para a simulação computacional, à luz da pergunta: quais os valores obtidos ao rolar o teste com bônus descrito?\n",
    "\n",
    "Assim, começamos definindo os dados do teste:"
   ]
  },
  {
   "cell_type": "code",
   "execution_count": 2,
   "id": "2726da29",
   "metadata": {},
   "outputs": [
    {
     "name": "stdout",
     "output_type": "stream",
     "text": [
      "1 1\n"
     ]
    }
   ],
   "source": [
    "def d20 ():\n",
    "    roll = rd.choice(range(1,21))\n",
    "    return roll\n",
    "\n",
    "def d4 ():\n",
    "    roll = rd.choice([1,2,3,4])\n",
    "    return roll\n",
    "\n",
    "print(d20(),d4())"
   ]
  },
  {
   "cell_type": "markdown",
   "id": "f4a715c0",
   "metadata": {},
   "source": [
    "Realizamos, então, o experimento uma vez, do início ao fim:"
   ]
  },
  {
   "cell_type": "code",
   "execution_count": 3,
   "id": "9db49daa",
   "metadata": {},
   "outputs": [
    {
     "data": {
      "text/plain": [
       "(7, 4)"
      ]
     },
     "execution_count": 3,
     "metadata": {},
     "output_type": "execute_result"
    }
   ],
   "source": [
    "def experimento():\n",
    "    teste = d20()\n",
    "    bonus = d4()\n",
    "    return teste, bonus\n",
    "\n",
    "experimento()"
   ]
  },
  {
   "cell_type": "markdown",
   "id": "305d2c88",
   "metadata": {},
   "source": [
    "Assim, repetimos o experimento _n_ vezes, guardando os resultados:"
   ]
  },
  {
   "cell_type": "code",
   "execution_count": 4,
   "id": "c99ed3ad",
   "metadata": {},
   "outputs": [],
   "source": [
    "def simulacao (n):\n",
    "    testes = []\n",
    "    bonuss = []\n",
    "    for i in range(n):\n",
    "        exp = experimento()\n",
    "        testes.append(exp[0])\n",
    "        bonuss.append(exp[1])\n",
    "    return [testes, bonuss]"
   ]
  },
  {
   "cell_type": "code",
   "execution_count": 5,
   "id": "22564435",
   "metadata": {
    "scrolled": true
   },
   "outputs": [
    {
     "name": "stdout",
     "output_type": "stream",
     "text": [
      "[16, 4, 12, 8, 19, 3, 11, 16, 8, 14, 17, 1, 4, 9, 19, 16, 6, 11, 12, 15, 3, 10, 17, 11, 5, 6, 8, 17, 19, 11, 14, 15, 10, 16, 2, 2, 15, 5, 20, 3, 15, 19, 9, 10, 12, 1, 10, 5, 4, 20, 6, 8, 15, 15, 3, 13, 12, 11, 6, 18, 3, 13, 6, 11, 19, 11, 5, 8, 10, 11, 15, 8, 13, 16, 10, 14, 19, 17, 15, 11, 9, 18, 17, 16, 19, 13, 4, 19, 7, 13, 15, 11, 5, 9, 1, 8, 12, 11, 6, 13] [4, 3, 3, 4, 3, 4, 2, 3, 2, 1, 4, 1, 4, 3, 3, 1, 3, 2, 4, 2, 3, 3, 4, 1, 2, 4, 4, 2, 2, 4, 3, 1, 2, 2, 3, 2, 2, 4, 1, 3, 4, 2, 3, 2, 1, 2, 3, 3, 1, 1, 4, 1, 3, 4, 4, 4, 4, 4, 1, 3, 1, 2, 3, 4, 1, 4, 2, 1, 1, 1, 3, 2, 1, 4, 2, 3, 3, 3, 3, 3, 1, 4, 4, 2, 4, 1, 3, 1, 4, 2, 4, 3, 4, 1, 1, 1, 3, 4, 2, 1]\n"
     ]
    }
   ],
   "source": [
    "X = simulacao(100)\n",
    "X1 = X[0]\n",
    "X2 = X[1]\n",
    "print(X1,X2)"
   ]
  },
  {
   "cell_type": "markdown",
   "id": "e023f87a",
   "metadata": {},
   "source": [
    "Para confirmar que os dados não estão relacionados, calculamos a correlação destes:"
   ]
  },
  {
   "cell_type": "code",
   "execution_count": 6,
   "id": "e3627e65",
   "metadata": {},
   "outputs": [
    {
     "data": {
      "text/plain": [
       "0.01382134813603684"
      ]
     },
     "execution_count": 6,
     "metadata": {},
     "output_type": "execute_result"
    }
   ],
   "source": [
    "def covariancia(X, Y):\n",
    "    media_x = st.mean(X)\n",
    "    media_y = st.mean(Y)\n",
    "    \n",
    "    dif_x = np.array(X) - media_x\n",
    "    dif_y = np.array(Y) - media_y\n",
    "    \n",
    "    cov = st.mean(dif_x*dif_y)\n",
    "    return cov\n",
    "\n",
    "def correlacao(X, Y):\n",
    "    cov = covariancia(X, Y)\n",
    "    dp_x = st.stdev(X)\n",
    "    dp_y = st.stdev(Y)\n",
    "    \n",
    "    corr = cov / (dp_x*dp_y)\n",
    "    return corr\n",
    "\n",
    "correlacao(X1,X2)"
   ]
  },
  {
   "cell_type": "markdown",
   "id": "eef0aefb",
   "metadata": {},
   "source": [
    "Considerando que a correlação se mostrou muito próxima de zero, podemos considerar que os eventos não sao correlacionados."
   ]
  },
  {
   "cell_type": "markdown",
   "id": "08e8ad33",
   "metadata": {},
   "source": [
    "A fim de melhor visualização, transformamos os resultados obtidos num dataframe a partir de um dicionário:"
   ]
  },
  {
   "cell_type": "code",
   "execution_count": 7,
   "id": "4d17ce05",
   "metadata": {
    "scrolled": true
   },
   "outputs": [
    {
     "data": {
      "text/html": [
       "<div>\n",
       "<style scoped>\n",
       "    .dataframe tbody tr th:only-of-type {\n",
       "        vertical-align: middle;\n",
       "    }\n",
       "\n",
       "    .dataframe tbody tr th {\n",
       "        vertical-align: top;\n",
       "    }\n",
       "\n",
       "    .dataframe thead th {\n",
       "        text-align: right;\n",
       "    }\n",
       "</style>\n",
       "<table border=\"1\" class=\"dataframe\">\n",
       "  <thead>\n",
       "    <tr style=\"text-align: right;\">\n",
       "      <th></th>\n",
       "      <th>X1 (testes)</th>\n",
       "      <th>X2 (bônus)</th>\n",
       "    </tr>\n",
       "  </thead>\n",
       "  <tbody>\n",
       "    <tr>\n",
       "      <th>0</th>\n",
       "      <td>16</td>\n",
       "      <td>4</td>\n",
       "    </tr>\n",
       "    <tr>\n",
       "      <th>1</th>\n",
       "      <td>4</td>\n",
       "      <td>3</td>\n",
       "    </tr>\n",
       "    <tr>\n",
       "      <th>2</th>\n",
       "      <td>12</td>\n",
       "      <td>3</td>\n",
       "    </tr>\n",
       "    <tr>\n",
       "      <th>3</th>\n",
       "      <td>8</td>\n",
       "      <td>4</td>\n",
       "    </tr>\n",
       "    <tr>\n",
       "      <th>4</th>\n",
       "      <td>19</td>\n",
       "      <td>3</td>\n",
       "    </tr>\n",
       "    <tr>\n",
       "      <th>...</th>\n",
       "      <td>...</td>\n",
       "      <td>...</td>\n",
       "    </tr>\n",
       "    <tr>\n",
       "      <th>95</th>\n",
       "      <td>8</td>\n",
       "      <td>1</td>\n",
       "    </tr>\n",
       "    <tr>\n",
       "      <th>96</th>\n",
       "      <td>12</td>\n",
       "      <td>3</td>\n",
       "    </tr>\n",
       "    <tr>\n",
       "      <th>97</th>\n",
       "      <td>11</td>\n",
       "      <td>4</td>\n",
       "    </tr>\n",
       "    <tr>\n",
       "      <th>98</th>\n",
       "      <td>6</td>\n",
       "      <td>2</td>\n",
       "    </tr>\n",
       "    <tr>\n",
       "      <th>99</th>\n",
       "      <td>13</td>\n",
       "      <td>1</td>\n",
       "    </tr>\n",
       "  </tbody>\n",
       "</table>\n",
       "<p>100 rows × 2 columns</p>\n",
       "</div>"
      ],
      "text/plain": [
       "    X1 (testes)  X2 (bônus)\n",
       "0            16           4\n",
       "1             4           3\n",
       "2            12           3\n",
       "3             8           4\n",
       "4            19           3\n",
       "..          ...         ...\n",
       "95            8           1\n",
       "96           12           3\n",
       "97           11           4\n",
       "98            6           2\n",
       "99           13           1\n",
       "\n",
       "[100 rows x 2 columns]"
      ]
     },
     "execution_count": 7,
     "metadata": {},
     "output_type": "execute_result"
    }
   ],
   "source": [
    "X_dict = {\"X1 (testes)\": X1,\n",
    "         \"X2 (bônus)\": X2}\n",
    "\n",
    "df = pd.DataFrame.from_dict(X_dict)\n",
    "df"
   ]
  },
  {
   "cell_type": "markdown",
   "id": "1ca14f1c",
   "metadata": {},
   "source": [
    "Fazemos, então, a soma das variáveis aleatórias Z = X1 + X2 e adicionamos os resultados do dataframe:"
   ]
  },
  {
   "cell_type": "code",
   "execution_count": 8,
   "id": "7265fee9",
   "metadata": {},
   "outputs": [
    {
     "name": "stdout",
     "output_type": "stream",
     "text": [
      "[20, 7, 15, 12, 22, 7, 13, 19, 10, 15, 21, 2, 8, 12, 22, 17, 9, 13, 16, 17, 6, 13, 21, 12, 7, 10, 12, 19, 21, 15, 17, 16, 12, 18, 5, 4, 17, 9, 21, 6, 19, 21, 12, 12, 13, 3, 13, 8, 5, 21, 10, 9, 18, 19, 7, 17, 16, 15, 7, 21, 4, 15, 9, 15, 20, 15, 7, 9, 11, 12, 18, 10, 14, 20, 12, 17, 22, 20, 18, 14, 10, 22, 21, 18, 23, 14, 7, 20, 11, 15, 19, 14, 9, 10, 2, 9, 15, 15, 8, 14]\n"
     ]
    }
   ],
   "source": [
    "def soma_Z (X1, X2):\n",
    "    n = len(X1)\n",
    "    Z = []\n",
    "    for i in range(n):\n",
    "        Z.append(X1[i]+X2[i])\n",
    "    return Z\n",
    "\n",
    "Z = soma_Z(X1, X2)\n",
    "print(Z)"
   ]
  },
  {
   "cell_type": "code",
   "execution_count": 9,
   "id": "84c0cc5e",
   "metadata": {},
   "outputs": [
    {
     "data": {
      "text/html": [
       "<div>\n",
       "<style scoped>\n",
       "    .dataframe tbody tr th:only-of-type {\n",
       "        vertical-align: middle;\n",
       "    }\n",
       "\n",
       "    .dataframe tbody tr th {\n",
       "        vertical-align: top;\n",
       "    }\n",
       "\n",
       "    .dataframe thead th {\n",
       "        text-align: right;\n",
       "    }\n",
       "</style>\n",
       "<table border=\"1\" class=\"dataframe\">\n",
       "  <thead>\n",
       "    <tr style=\"text-align: right;\">\n",
       "      <th></th>\n",
       "      <th>X1 (testes)</th>\n",
       "      <th>X2 (bônus)</th>\n",
       "      <th>Z = X1 + X2</th>\n",
       "    </tr>\n",
       "  </thead>\n",
       "  <tbody>\n",
       "    <tr>\n",
       "      <th>0</th>\n",
       "      <td>16</td>\n",
       "      <td>4</td>\n",
       "      <td>20</td>\n",
       "    </tr>\n",
       "    <tr>\n",
       "      <th>1</th>\n",
       "      <td>4</td>\n",
       "      <td>3</td>\n",
       "      <td>7</td>\n",
       "    </tr>\n",
       "    <tr>\n",
       "      <th>2</th>\n",
       "      <td>12</td>\n",
       "      <td>3</td>\n",
       "      <td>15</td>\n",
       "    </tr>\n",
       "    <tr>\n",
       "      <th>3</th>\n",
       "      <td>8</td>\n",
       "      <td>4</td>\n",
       "      <td>12</td>\n",
       "    </tr>\n",
       "    <tr>\n",
       "      <th>4</th>\n",
       "      <td>19</td>\n",
       "      <td>3</td>\n",
       "      <td>22</td>\n",
       "    </tr>\n",
       "    <tr>\n",
       "      <th>...</th>\n",
       "      <td>...</td>\n",
       "      <td>...</td>\n",
       "      <td>...</td>\n",
       "    </tr>\n",
       "    <tr>\n",
       "      <th>95</th>\n",
       "      <td>8</td>\n",
       "      <td>1</td>\n",
       "      <td>9</td>\n",
       "    </tr>\n",
       "    <tr>\n",
       "      <th>96</th>\n",
       "      <td>12</td>\n",
       "      <td>3</td>\n",
       "      <td>15</td>\n",
       "    </tr>\n",
       "    <tr>\n",
       "      <th>97</th>\n",
       "      <td>11</td>\n",
       "      <td>4</td>\n",
       "      <td>15</td>\n",
       "    </tr>\n",
       "    <tr>\n",
       "      <th>98</th>\n",
       "      <td>6</td>\n",
       "      <td>2</td>\n",
       "      <td>8</td>\n",
       "    </tr>\n",
       "    <tr>\n",
       "      <th>99</th>\n",
       "      <td>13</td>\n",
       "      <td>1</td>\n",
       "      <td>14</td>\n",
       "    </tr>\n",
       "  </tbody>\n",
       "</table>\n",
       "<p>100 rows × 3 columns</p>\n",
       "</div>"
      ],
      "text/plain": [
       "    X1 (testes)  X2 (bônus)  Z = X1 + X2\n",
       "0            16           4           20\n",
       "1             4           3            7\n",
       "2            12           3           15\n",
       "3             8           4           12\n",
       "4            19           3           22\n",
       "..          ...         ...          ...\n",
       "95            8           1            9\n",
       "96           12           3           15\n",
       "97           11           4           15\n",
       "98            6           2            8\n",
       "99           13           1           14\n",
       "\n",
       "[100 rows x 3 columns]"
      ]
     },
     "execution_count": 9,
     "metadata": {},
     "output_type": "execute_result"
    }
   ],
   "source": [
    "X_dict[\"Z = X1 + X2\"] = Z\n",
    "df = pd.DataFrame.from_dict(X_dict)\n",
    "df"
   ]
  },
  {
   "cell_type": "markdown",
   "id": "93410c21",
   "metadata": {},
   "source": [
    "Agora, resta realizar as estatísticas descritivas desses dados: média, variância e desvio padrão:"
   ]
  },
  {
   "cell_type": "code",
   "execution_count": 10,
   "id": "751f627c",
   "metadata": {
    "scrolled": true
   },
   "outputs": [
    {
     "name": "stdout",
     "output_type": "stream",
     "text": [
      "A média de X1 é 11.03. A variância de X1 é 27.1091. O desvio padrão de X1 é 5.206639991395603\n",
      "A média de X2 é 2.59. A variância de X2 é 1.2819. O desvio padrão de X2 é 1.1322102278287367\n",
      "A média de Z é 13.62. A variância de Z é 28.5556. O desvio padrão de Z é 5.3437440058445915\n"
     ]
    }
   ],
   "source": [
    "media_X1 = st.mean(X1)\n",
    "var_X1 = st.pvariance(X1)\n",
    "desv_pd_X1 = st.pstdev(X1)\n",
    "\n",
    "print(f\"A média de X1 é {media_X1}. A variância de X1 é {var_X1}. O desvio padrão de X1 é {desv_pd_X1}\")\n",
    "\n",
    "media_X2 = st.mean(X2)\n",
    "var_X2 = st.pvariance(X2)\n",
    "desv_pd_X2 = st.pstdev(X2)\n",
    "\n",
    "print(f\"A média de X2 é {media_X2}. A variância de X2 é {var_X2}. O desvio padrão de X2 é {desv_pd_X2}\")\n",
    "\n",
    "media_Z = st.mean(Z)\n",
    "var_Z = st.pvariance(Z)\n",
    "desv_pd_Z = st.pstdev(Z)\n",
    "\n",
    "print(f\"A média de Z é {media_Z}. A variância de Z é {var_Z}. O desvio padrão de Z é {desv_pd_Z}\")"
   ]
  },
  {
   "cell_type": "markdown",
   "id": "32afb746",
   "metadata": {},
   "source": [
    "A fim de comparação com Z, podemos calcular, também, a soma das estatisticas descritivas de X1 e X2:"
   ]
  },
  {
   "cell_type": "code",
   "execution_count": 11,
   "id": "440aa008",
   "metadata": {
    "scrolled": true
   },
   "outputs": [
    {
     "name": "stdout",
     "output_type": "stream",
     "text": [
      "A soma das médias é: 13.62\n",
      "A soma das variâncias é: 28.391000000000002\n",
      "A soma dos desvios padrão é: 6.33885021922434\n"
     ]
    }
   ],
   "source": [
    "print(\"A soma das médias é:\", media_X1+media_X2)\n",
    "print(\"A soma das variâncias é:\", var_X1+var_X2)\n",
    "print(\"A soma dos desvios padrão é:\", desv_pd_X1 + desv_pd_X2)"
   ]
  },
  {
   "cell_type": "markdown",
   "id": "affe480f",
   "metadata": {},
   "source": [
    "#### Situação 2: Variáveis aleatórias correlacionadas\n",
    "\n",
    "Agora, vamos observar as mesmas características para variáveis aleatórias correlacionadas. Para isso, importaremos o dataset _Geyser_ do _Seaborn_."
   ]
  },
  {
   "cell_type": "code",
   "execution_count": 12,
   "id": "61444d6b",
   "metadata": {
    "scrolled": true
   },
   "outputs": [
    {
     "data": {
      "text/html": [
       "<div>\n",
       "<style scoped>\n",
       "    .dataframe tbody tr th:only-of-type {\n",
       "        vertical-align: middle;\n",
       "    }\n",
       "\n",
       "    .dataframe tbody tr th {\n",
       "        vertical-align: top;\n",
       "    }\n",
       "\n",
       "    .dataframe thead th {\n",
       "        text-align: right;\n",
       "    }\n",
       "</style>\n",
       "<table border=\"1\" class=\"dataframe\">\n",
       "  <thead>\n",
       "    <tr style=\"text-align: right;\">\n",
       "      <th></th>\n",
       "      <th>duration</th>\n",
       "      <th>waiting</th>\n",
       "      <th>kind</th>\n",
       "    </tr>\n",
       "  </thead>\n",
       "  <tbody>\n",
       "    <tr>\n",
       "      <th>0</th>\n",
       "      <td>3.600</td>\n",
       "      <td>79</td>\n",
       "      <td>long</td>\n",
       "    </tr>\n",
       "    <tr>\n",
       "      <th>1</th>\n",
       "      <td>1.800</td>\n",
       "      <td>54</td>\n",
       "      <td>short</td>\n",
       "    </tr>\n",
       "    <tr>\n",
       "      <th>2</th>\n",
       "      <td>3.333</td>\n",
       "      <td>74</td>\n",
       "      <td>long</td>\n",
       "    </tr>\n",
       "    <tr>\n",
       "      <th>3</th>\n",
       "      <td>2.283</td>\n",
       "      <td>62</td>\n",
       "      <td>short</td>\n",
       "    </tr>\n",
       "    <tr>\n",
       "      <th>4</th>\n",
       "      <td>4.533</td>\n",
       "      <td>85</td>\n",
       "      <td>long</td>\n",
       "    </tr>\n",
       "    <tr>\n",
       "      <th>...</th>\n",
       "      <td>...</td>\n",
       "      <td>...</td>\n",
       "      <td>...</td>\n",
       "    </tr>\n",
       "    <tr>\n",
       "      <th>267</th>\n",
       "      <td>4.117</td>\n",
       "      <td>81</td>\n",
       "      <td>long</td>\n",
       "    </tr>\n",
       "    <tr>\n",
       "      <th>268</th>\n",
       "      <td>2.150</td>\n",
       "      <td>46</td>\n",
       "      <td>short</td>\n",
       "    </tr>\n",
       "    <tr>\n",
       "      <th>269</th>\n",
       "      <td>4.417</td>\n",
       "      <td>90</td>\n",
       "      <td>long</td>\n",
       "    </tr>\n",
       "    <tr>\n",
       "      <th>270</th>\n",
       "      <td>1.817</td>\n",
       "      <td>46</td>\n",
       "      <td>short</td>\n",
       "    </tr>\n",
       "    <tr>\n",
       "      <th>271</th>\n",
       "      <td>4.467</td>\n",
       "      <td>74</td>\n",
       "      <td>long</td>\n",
       "    </tr>\n",
       "  </tbody>\n",
       "</table>\n",
       "<p>272 rows × 3 columns</p>\n",
       "</div>"
      ],
      "text/plain": [
       "     duration  waiting   kind\n",
       "0       3.600       79   long\n",
       "1       1.800       54  short\n",
       "2       3.333       74   long\n",
       "3       2.283       62  short\n",
       "4       4.533       85   long\n",
       "..        ...      ...    ...\n",
       "267     4.117       81   long\n",
       "268     2.150       46  short\n",
       "269     4.417       90   long\n",
       "270     1.817       46  short\n",
       "271     4.467       74   long\n",
       "\n",
       "[272 rows x 3 columns]"
      ]
     },
     "execution_count": 12,
     "metadata": {},
     "output_type": "execute_result"
    }
   ],
   "source": [
    "df2 = sb.load_dataset(\"geyser\")\n",
    "df2"
   ]
  },
  {
   "cell_type": "code",
   "execution_count": 13,
   "id": "20307588",
   "metadata": {},
   "outputs": [
    {
     "data": {
      "text/plain": [
       "0.8974993625559239"
      ]
     },
     "execution_count": 13,
     "metadata": {},
     "output_type": "execute_result"
    }
   ],
   "source": [
    "gey_X1 = df2[\"duration\"]\n",
    "gey_X2 = df2[\"waiting\"]\n",
    "\n",
    "correlacao(gey_X1,gey_X2)"
   ]
  },
  {
   "cell_type": "markdown",
   "id": "88be4894",
   "metadata": {},
   "source": [
    "Considerando que a correlação se mostrou muito próxima de 1 (~0,9), podemos considerar que os eventos são intrinsecamente correlacionados.\n",
    "\n",
    "Então, somamos as variáveis aleatórias e computamos as estatísticas descritivas:"
   ]
  },
  {
   "cell_type": "code",
   "execution_count": 14,
   "id": "185f371b",
   "metadata": {},
   "outputs": [
    {
     "name": "stdout",
     "output_type": "stream",
     "text": [
      "[82.6, 55.8, 77.333, 64.283, 89.533, 57.883, 92.7, 88.6, 52.95, 89.35, 55.833, 87.917, 82.2, 48.75, 87.7, 54.167, 63.75, 88.8, 53.6, 83.25, 52.8, 48.75, 81.45, 72.06700000000001, 78.533, 86.6, 56.967, 80.083, 81.85, 83.43299999999999, 77.3, 81.467, 69.367, 84.033, 77.833, 54.017, 49.867, 84.833, 60.833, 94.783, 84.35, 59.883, 88.56700000000001, 59.75, 77.533, 86.31700000000001, 67.833, 55.1, 86.633, 61.0, 79.8, 94.716, 55.833, 84.833, 55.733, 87.883, 74.717, 65.667, 81.56700000000001, 85.31700000000001, 61.233, 88.5, 49.75, 86.8, 61.817, 96.4, 82.167, 82.7, 67.06700000000001, 77.7, 86.033, 57.967, 83.5, 75.0, 63.983, 81.06700000000001, 62.017, 82.56700000000001, 79.883, 86.6, 79.133, 86.333, 74.1, 67.633, 77.06700000000001, 92.93299999999999, 79.95, 84.517, 50.167, 90.0, 62.2, 94.333, 51.867, 82.81700000000001, 64.833, 76.3, 88.667, 78.75, 52.867, 86.9, 64.483, 92.367, 51.1, 87.5, 85.05, 48.867, 88.7, 53.783, 90.85, 84.68299999999999, 79.733, 61.3, 93.9, 83.417, 60.7, 85.633, 52.317, 89.6, 60.817, 91.417, 55.617, 73.06700000000001, 81.25, 57.967, 92.6, 84.767, 46.917, 86.5, 57.267, 94.65, 46.867, 87.167, 58.8, 93.333, 47.833, 86.383, 52.883, 90.93299999999999, 55.033, 82.733, 85.233, 62.233, 86.533, 81.81700000000001, 80.333, 60.983, 84.633, 51.017, 101.1, 54.8, 82.033, 81.0, 67.4, 85.6, 74.56700000000001, 74.0, 85.5, 97.083, 54.8, 92.967, 47.2, 90.15, 60.0, 81.833, 69.5, 80.583, 65.367, 93.0, 53.933, 97.617, 50.917, 59.083, 81.583, 71.333, 85.167, 85.333, 77.5, 52.417, 89.0, 78.167, 56.883, 81.583, 87.25, 86.767, 53.033, 82.43299999999999, 88.083, 47.833, 87.417, 57.183, 85.8, 58.833, 80.8, 88.1, 80.966, 85.233, 90.5, 81.366, 53.25, 82.667, 62.1, 86.35, 95.133, 54.867, 82.6, 47.783, 81.367, 87.85, 50.933, 87.5, 73.383, 84.7, 50.867, 78.833, 67.417, 80.233, 55.4, 98.8, 57.0, 80.15, 51.867, 86.267, 55.75, 79.483, 82.0, 83.117, 82.083, 82.267, 73.917, 83.55, 74.083, 56.417, 90.18299999999999, 52.217, 94.45, 55.883, 55.85, 81.283, 82.95, 66.333, 79.15, 49.35, 90.93299999999999, 65.9, 89.583, 85.833, 59.083, 86.367, 69.133, 78.35, 56.2, 87.45, 76.56700000000001, 77.5, 92.15, 83.81700000000001, 74.917, 87.45, 58.0, 83.283, 82.767, 88.533, 59.85, 87.25, 44.983, 62.25, 79.75, 85.117, 48.15, 94.417, 47.817, 78.467]\n"
     ]
    }
   ],
   "source": [
    "g_Z = soma_Z(gey_X1,gey_X2)\n",
    "print(g_Z)"
   ]
  },
  {
   "cell_type": "code",
   "execution_count": 15,
   "id": "7ac3b741",
   "metadata": {},
   "outputs": [
    {
     "name": "stdout",
     "output_type": "stream",
     "text": [
      "A média de X1 é 3.487783088235294. A variância de X1 é 1.2979388904492863. O desvio padrão de X1 é 1.139271210225768\n",
      "A média de X2 é 70.8970588235294. A variância de X2 é 184.14381487889273. O desvio padrão de X2 é 13.569960017586371\n",
      "A média de Z é 74.38484191176471. A variância de Z é 213.2945914639787. O desvio padrão de Z é 14.604608569351617\n"
     ]
    }
   ],
   "source": [
    "media_gX1 = st.mean(gey_X1)\n",
    "var_gX1 = st.pvariance(gey_X1)\n",
    "desv_pd_gX1 = st.pstdev(gey_X1)\n",
    "\n",
    "print(f\"A média de X1 é {media_gX1}. A variância de X1 é {var_gX1}. O desvio padrão de X1 é {desv_pd_gX1}\")\n",
    "\n",
    "media_gX2 = st.mean(gey_X2)\n",
    "var_gX2 = st.pvariance(gey_X2)\n",
    "desv_pd_gX2 = st.pstdev(gey_X2)\n",
    "\n",
    "print(f\"A média de X2 é {media_gX2}. A variância de X2 é {var_gX2}. O desvio padrão de X2 é {desv_pd_gX2}\")\n",
    "\n",
    "media_gZ = st.mean(g_Z)\n",
    "var_gZ = st.pvariance(g_Z)\n",
    "desv_pd_gZ = st.pstdev(g_Z)\n",
    "\n",
    "print(f\"A média de Z é {media_gZ}. A variância de Z é {var_gZ}. O desvio padrão de Z é {desv_pd_gZ}\")"
   ]
  },
  {
   "cell_type": "markdown",
   "id": "fa6ba448",
   "metadata": {},
   "source": [
    "Novamente, a fim de comparação, podemos calcular a soma das estatísticas das variáveis:"
   ]
  },
  {
   "cell_type": "code",
   "execution_count": 16,
   "id": "4252ec81",
   "metadata": {},
   "outputs": [
    {
     "name": "stdout",
     "output_type": "stream",
     "text": [
      "A soma das médias é: 74.3848419117647\n",
      "A soma das variâncias é: 185.441753769342\n",
      "A soma dos desvios padrão é: 14.70923122781214\n"
     ]
    }
   ],
   "source": [
    "print(\"A soma das médias é:\", media_gX1+media_gX2)\n",
    "print(\"A soma das variâncias é:\", var_gX1+var_gX2)\n",
    "print(\"A soma dos desvios padrão é:\", desv_pd_gX1 + desv_pd_gX2)"
   ]
  },
  {
   "cell_type": "markdown",
   "id": "f4a6d0fe",
   "metadata": {},
   "source": [
    "### Discussões\n",
    "\n",
    "Computando a média, a variância e o desvio padrão das três variáveis aleatórias (X1,X2 e Z=X1+X2) para os dois casos, podemos observar algumas coisas.\n",
    "\n",
    "Primeiramente, a respeito do cálculo da média. A média dos elementos de uma variável aleatória total é dada por: \n",
    "\n",
    "$$\n",
    "\\mu = \\frac{1}{N} \\sum_{i=1}^{N} X_i\n",
    "$$\n",
    "\n",
    "Calculando a média da soma de duas varíáveis aleatórias, tanto de variáveis independentes quanto correlacionadas, concluímos que a soma das médias é igual à media da soma:\n",
    "\n",
    "$$\n",
    "\\mu_Z = \\frac{1}{N} \\sum_{i=1}^{N} Z_i \\rightarrow \\mu_Z = \\frac{1}{N} \\sum_{i=1}^{N} (X_1+X_2)_i \\rightarrow \\mu_Z = \\frac{1}{N} \\sum_{i=1}^{N} (X_1)_i + \\frac{1}{N} \\sum_{i=1}^{N} (X_2)_i \\rightarrow \\mu_Z = \\mu_{X_1} + \\mu_{X_2}\n",
    "$$\n",
    "\n",
    "Esse comportamento é apresentado pelas duas situações observadas, como esperado.\n",
    "\n",
    "Já para a variância, observamos comportamentos diferentes nas duas situações. Para as variáveis independentes, foram obtidos valores muito próximos entre a variância da soma e a soma das variâncias; entretanto, para as variáveis correlacionadas, foi possível perceber uma discrepância entre os valores obtidos.\n",
    "\n",
    "A variância de uma variável aleatória é dada por:\n",
    "\n",
    "$$\n",
    "\\sigma^2 = \\mathrm{Var}(X) = \\frac{1}{N} \\sum_{i=1}^{N} (X_i - \\mu)^2\n",
    "$$\n",
    "\n",
    "Entretanto, é tabelado que a variância da soma de variáveis aleatórias é dada por\n",
    "\n",
    "$$\\sigma^2_{(X+Y)} = \\mathrm{Var}(X+Y) = \\mathrm{Var}(X)+\\mathrm{Var}(Y)+2\\mathrm{cov}(XY)$$\n",
    "\n",
    ", de modo que, caso as variáveis sejam independentes, $\\mathrm{cov}(XY) = 0$.\n",
    "\n",
    "Assim, podemos explicar o comportamento observado nas situações apresentadas: apesar de considerarmos as variáveis aleatórias da situação 1 independentes, a correlação (dependentente da varância) destas não é zero - ainda que muito próximas -, de modo que a variância de Z se aproxime muito da soma das variâncias de X1 e X2, mas não se iguale; para as variáveis aleatórias correlacionadas, a covariância tem grande influência, de modo que a soma das variâncias e a variância da soma apresentam valores bastante diferentes.\n",
    "\n",
    "Por fim, o desvio padrão de uma variável aleatória é dado pela raiz quadrada da variância:\n",
    "\n",
    "$$\n",
    "\\sigma = \\sqrt{\\mathrm{Var(X)}} =  \\sqrt{\\frac{1}{N} \\sum_{i=1}^{N} (X_i - \\mu)^2}\n",
    "$$\n",
    "\n",
    "Sendo assim, para o desvio padrão da soma de variáveis, temos:\n",
    "\n",
    "$$\\sigma_{(X+Y)} = \\sqrt{\\mathrm{Var}(X+Y)} = \\sqrt{\\mathrm{Var}(X)+\\mathrm{Var}(Y)+2\\mathrm{cov}(XY)}$$\n",
    "\n",
    "Portanto, como o desvio padrão é dado pela raiz da soma das variâncias, o desvio padrão de Z tende a ser o que mais difere da soma dos desvios padrão de X1 e X2 tanto para variávies independentes quanto correlacionadas, como observamos nas situações apresentadas."
   ]
  },
  {
   "cell_type": "markdown",
   "id": "820b1332",
   "metadata": {},
   "source": [
    "### Conclusões\n",
    "\n",
    "Computando estatísticas descritivas da soma de variáveis aleatória não correlacionadas e correlacionadas, foi possível observar como tal relação entre as variáveis afeta o cálculo de estatísticas descritivas. Assim, concluímos que a soma das médias e a média da soma são sempre iguais; a variância da soma sempre depende da covariância entre as variáveis aleatórias, de modo que, se as variáveis são independentes, a soma das variâncias é igual a variância da soma; e o desvio padrão, por ser dado pela raiz da variância, nunca é igual (soma de raízes e raíz da soma)."
   ]
  },
  {
   "cell_type": "markdown",
   "id": "605af1ee",
   "metadata": {},
   "source": [
    "### Referências\n",
    "\n",
    "CASSAR, DR. LMA-203 1.0 Estatística descritiva. Microsoft Teams, T03-LMA-203 - Probabilidade e Estatística, Material de Aula. \n",
    "\n",
    "CASSAR, DR. LMA-203 2.0 População, amostra e correlação. Microsoft Teams, T03-LMA-203 - Probabilidade e Estatística, Material de Aula. \n",
    "\n",
    "CASSAR, DR. LMA-203 0.3 Módulo Pandas. Microsoft Teams, T03-LMA-203 - Probabilidade e Estatística, Material de Aula. \n",
    "\n",
    "ZIBETTI, André. Soma de Variáveis Aleatórias. Disponível em: https://www.inf.ufsc.br/~andre.zibetti/probabilidade/soma-de-variaveis-aleatorias.html. Acesso em: 20 Set 2024."
   ]
  }
 ],
 "metadata": {
  "kernelspec": {
   "display_name": "ilumpy",
   "language": "python",
   "name": "ilumpy"
  },
  "language_info": {
   "codemirror_mode": {
    "name": "ipython",
    "version": 3
   },
   "file_extension": ".py",
   "mimetype": "text/x-python",
   "name": "python",
   "nbconvert_exporter": "python",
   "pygments_lexer": "ipython3",
   "version": "3.11.6"
  }
 },
 "nbformat": 4,
 "nbformat_minor": 5
}
