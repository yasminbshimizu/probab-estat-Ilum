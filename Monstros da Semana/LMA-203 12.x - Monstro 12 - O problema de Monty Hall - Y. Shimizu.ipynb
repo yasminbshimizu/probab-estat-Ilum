{
 "cells": [
  {
   "cell_type": "markdown",
   "id": "3585a0d8",
   "metadata": {},
   "source": [
    "## Introdução\n",
    "\n",
    "O problema de Monty Hall, baseado num programa de TV americano dos anos 90, consisite na seguinte discussão sobre probabilidade:\n",
    "\n",
    "Em um programa de auditório, tem-se três portas: uma contém um carro e as outras duas contém cabras. O participante deve escolher uma das portas e o apresentador abrirá uma das outras portas que contém uma cabra. Aqui surge o debate: quão vantajoso é trocar de porta depois que uma delas é aberta?\n",
    "\n",
    "Segundo Marylin von Savant, o ideal é trocar de porta, visto que a probabilidade do carro estar na outra porta passa a ser 2/3, enquanto a probabilidade de que esteja na porta escolhida inicialmente é de 1/3, apenas.\n",
    "\n",
    "Muitos matemáticos da época discordaram da resposta de Marylin. Sendo assim , neste trabalho, buscamos fazer uma simulação computacional do problema proposto, visando provar que a probabilidade de ganhar mudando de porta é de 2/3, como proposto por Marylin.\n",
    "\n"
   ]
  },
  {
   "cell_type": "markdown",
   "id": "493b6c5c",
   "metadata": {},
   "source": [
    "## Metodologia"
   ]
  },
  {
   "cell_type": "code",
   "execution_count": 1,
   "id": "a5871a0b",
   "metadata": {},
   "outputs": [],
   "source": [
    "import random\n",
    "import seaborn as sns"
   ]
  },
  {
   "cell_type": "markdown",
   "id": "bd6df8d3",
   "metadata": {},
   "source": [
    "Tendo em vista a solução apresentada por Marylin, realizaremos uma simulação computacional que analise a probabilidade de um participante ganhar o carro trocando de porta. Para isso, definiremos primeiro algumas funções a serem utilizadas nessa simulação. "
   ]
  },
  {
   "cell_type": "markdown",
   "id": "7b25eb6f",
   "metadata": {},
   "source": [
    "Primeiro, criaremos uma função `portas_programa()` que define, aleatoriamente, os elementos escondidos nas portas 1, 2 e 3, em ordem:"
   ]
  },
  {
   "cell_type": "code",
   "execution_count": 2,
   "id": "5ae1f6bf",
   "metadata": {},
   "outputs": [
    {
     "name": "stdout",
     "output_type": "stream",
     "text": [
      "['cabra', 'carro', 'cabra']\n"
     ]
    }
   ],
   "source": [
    "def portas_programa():\n",
    "    portas = [\"cabra\", \"cabra\", \"carro\"]\n",
    "    random.shuffle(portas)\n",
    "    return portas\n",
    "\n",
    "portas = portas_programa()\n",
    "\n",
    "print(portas)"
   ]
  },
  {
   "cell_type": "markdown",
   "id": "1c3bd24c",
   "metadata": {},
   "source": [
    "Criaremos, também, uma função `sorteia_porta()`, que sorteia um número de 1 a 3 referente à prota escolhida pelo participante."
   ]
  },
  {
   "cell_type": "code",
   "execution_count": 3,
   "id": "cbc78786",
   "metadata": {},
   "outputs": [
    {
     "name": "stdout",
     "output_type": "stream",
     "text": [
      "1\n"
     ]
    }
   ],
   "source": [
    "def sorteia_porta():\n",
    "    porta = random.choices([1,2,3])\n",
    "    return porta[0]\n",
    "\n",
    "porta = sorteia_porta()\n",
    "\n",
    "print(porta)"
   ]
  },
  {
   "cell_type": "markdown",
   "id": "4d7788db",
   "metadata": {},
   "source": [
    "Feito isso, partimos para a nossa simulação. Na função `monty_hall()`, definimos um espisódio do programa em que o participante escolhe trocar de porta, usando como suporte as duas funções anteriores. Essa função retorna uma *string* que informa se o participante `\"Ganhou!\"` ou `\"Perdeu!\"` ao trocar de porta."
   ]
  },
  {
   "cell_type": "code",
   "execution_count": 4,
   "id": "44a6ce98",
   "metadata": {},
   "outputs": [
    {
     "data": {
      "text/plain": [
       "'Ganhou!'"
      ]
     },
     "execution_count": 4,
     "metadata": {},
     "output_type": "execute_result"
    }
   ],
   "source": [
    "def monty_hall():\n",
    "    portas = portas_programa()\n",
    "    porta = sorteia_porta()\n",
    "    \n",
    "    for i in range(3):\n",
    "        if portas[i] == \"carro\":\n",
    "            p_carro = i+1\n",
    "        if i != porta-1:\n",
    "            if portas[i] == \"cabra\":\n",
    "                p_cabra = i+1\n",
    "    \n",
    "    for p in range(1,4):\n",
    "        if p != porta and p != p_cabra:\n",
    "            nova_porta = p\n",
    "    \n",
    "    if p_carro == nova_porta:\n",
    "        return \"Ganhou!\"\n",
    "    else: \n",
    "        return \"Perdeu!\"\n",
    "    \n",
    "monty_hall()"
   ]
  },
  {
   "cell_type": "markdown",
   "id": "7cebf139",
   "metadata": {},
   "source": [
    "Por fim, para finalizar nosso experimento, definimos uma função `experimento(n)`, que recebe o número de episódios do programa com participantes que trocaram de porta e salva o resultado obtido por todos eles. Aplicamos essa função para 1500 episódios diferentes, plotando um histograma para visualizar os resultados obtidos."
   ]
  },
  {
   "cell_type": "code",
   "execution_count": 5,
   "id": "4fc90be9",
   "metadata": {},
   "outputs": [],
   "source": [
    "def experimento(n):\n",
    "    \n",
    "    results = []\n",
    "    \n",
    "    for _ in range (n):\n",
    "        results.append(monty_hall())\n",
    "        \n",
    "    return results"
   ]
  },
  {
   "cell_type": "code",
   "execution_count": 6,
   "id": "ce3b8e03",
   "metadata": {},
   "outputs": [
    {
     "name": "stdout",
     "output_type": "stream",
     "text": [
      "['Ganhou!', 'Ganhou!', 'Ganhou!', 'Ganhou!', 'Ganhou!', 'Ganhou!', 'Ganhou!', 'Ganhou!', 'Ganhou!', 'Ganhou!', 'Perdeu!', 'Perdeu!', 'Perdeu!', 'Ganhou!', 'Ganhou!', 'Ganhou!', 'Ganhou!', 'Ganhou!', 'Ganhou!', 'Perdeu!', 'Ganhou!', 'Perdeu!', 'Perdeu!', 'Ganhou!', 'Ganhou!', 'Perdeu!', 'Ganhou!', 'Ganhou!', 'Ganhou!', 'Perdeu!', 'Ganhou!', 'Ganhou!', 'Perdeu!', 'Ganhou!', 'Ganhou!', 'Ganhou!', 'Perdeu!', 'Perdeu!', 'Ganhou!', 'Ganhou!', 'Ganhou!', 'Perdeu!', 'Ganhou!', 'Ganhou!', 'Ganhou!', 'Ganhou!', 'Ganhou!', 'Ganhou!', 'Perdeu!', 'Ganhou!', 'Ganhou!', 'Ganhou!', 'Perdeu!', 'Perdeu!', 'Ganhou!', 'Ganhou!', 'Perdeu!', 'Ganhou!', 'Ganhou!', 'Ganhou!', 'Perdeu!', 'Ganhou!', 'Ganhou!', 'Ganhou!', 'Ganhou!', 'Perdeu!', 'Ganhou!', 'Ganhou!', 'Perdeu!', 'Ganhou!', 'Ganhou!', 'Ganhou!', 'Perdeu!', 'Ganhou!', 'Ganhou!', 'Perdeu!', 'Ganhou!', 'Ganhou!', 'Ganhou!', 'Perdeu!', 'Ganhou!', 'Ganhou!', 'Ganhou!', 'Perdeu!', 'Ganhou!', 'Perdeu!', 'Ganhou!', 'Ganhou!', 'Perdeu!', 'Perdeu!', 'Ganhou!', 'Perdeu!', 'Ganhou!', 'Ganhou!', 'Ganhou!', 'Perdeu!', 'Ganhou!', 'Perdeu!', 'Perdeu!', 'Ganhou!', 'Perdeu!', 'Ganhou!', 'Ganhou!', 'Perdeu!', 'Perdeu!', 'Ganhou!', 'Ganhou!', 'Ganhou!', 'Ganhou!', 'Perdeu!', 'Ganhou!', 'Ganhou!', 'Perdeu!', 'Perdeu!', 'Ganhou!', 'Perdeu!', 'Ganhou!', 'Perdeu!', 'Ganhou!', 'Ganhou!', 'Ganhou!', 'Ganhou!', 'Ganhou!', 'Ganhou!', 'Ganhou!', 'Perdeu!', 'Ganhou!', 'Ganhou!', 'Ganhou!', 'Ganhou!', 'Ganhou!', 'Ganhou!', 'Perdeu!', 'Ganhou!', 'Ganhou!', 'Ganhou!', 'Perdeu!', 'Ganhou!', 'Perdeu!', 'Ganhou!', 'Ganhou!', 'Ganhou!', 'Perdeu!', 'Perdeu!', 'Ganhou!', 'Perdeu!', 'Ganhou!', 'Ganhou!', 'Perdeu!', 'Ganhou!', 'Ganhou!', 'Perdeu!', 'Perdeu!', 'Ganhou!', 'Perdeu!', 'Perdeu!', 'Ganhou!', 'Ganhou!', 'Ganhou!', 'Perdeu!', 'Perdeu!', 'Ganhou!', 'Perdeu!', 'Ganhou!', 'Ganhou!', 'Perdeu!', 'Ganhou!', 'Ganhou!', 'Ganhou!', 'Ganhou!', 'Perdeu!', 'Perdeu!', 'Ganhou!', 'Ganhou!', 'Perdeu!', 'Ganhou!', 'Ganhou!', 'Perdeu!', 'Perdeu!', 'Perdeu!', 'Perdeu!', 'Ganhou!', 'Ganhou!', 'Ganhou!', 'Ganhou!', 'Ganhou!', 'Perdeu!', 'Ganhou!', 'Ganhou!', 'Perdeu!', 'Perdeu!', 'Ganhou!', 'Perdeu!', 'Ganhou!', 'Perdeu!', 'Ganhou!', 'Ganhou!', 'Perdeu!', 'Perdeu!', 'Ganhou!', 'Perdeu!', 'Ganhou!', 'Ganhou!', 'Ganhou!', 'Ganhou!', 'Perdeu!', 'Ganhou!', 'Ganhou!', 'Ganhou!', 'Ganhou!', 'Ganhou!', 'Ganhou!', 'Ganhou!', 'Perdeu!', 'Ganhou!', 'Ganhou!', 'Ganhou!', 'Perdeu!', 'Ganhou!', 'Ganhou!', 'Ganhou!', 'Ganhou!', 'Perdeu!', 'Perdeu!', 'Perdeu!', 'Ganhou!', 'Ganhou!', 'Perdeu!', 'Ganhou!', 'Ganhou!', 'Ganhou!', 'Perdeu!', 'Perdeu!', 'Perdeu!', 'Ganhou!', 'Ganhou!', 'Ganhou!', 'Perdeu!', 'Perdeu!', 'Ganhou!', 'Perdeu!', 'Ganhou!', 'Ganhou!', 'Ganhou!', 'Perdeu!', 'Ganhou!', 'Perdeu!', 'Ganhou!', 'Ganhou!', 'Ganhou!', 'Perdeu!', 'Ganhou!', 'Ganhou!', 'Perdeu!', 'Perdeu!', 'Ganhou!', 'Ganhou!', 'Perdeu!', 'Ganhou!', 'Ganhou!', 'Ganhou!', 'Ganhou!', 'Ganhou!', 'Perdeu!', 'Ganhou!', 'Ganhou!', 'Ganhou!', 'Ganhou!', 'Perdeu!', 'Ganhou!', 'Perdeu!', 'Ganhou!', 'Ganhou!', 'Perdeu!', 'Ganhou!', 'Ganhou!', 'Perdeu!', 'Ganhou!', 'Ganhou!', 'Ganhou!', 'Perdeu!', 'Ganhou!', 'Ganhou!', 'Ganhou!', 'Ganhou!', 'Ganhou!', 'Ganhou!', 'Perdeu!', 'Ganhou!', 'Ganhou!', 'Perdeu!', 'Ganhou!', 'Ganhou!', 'Perdeu!', 'Ganhou!', 'Ganhou!', 'Ganhou!', 'Ganhou!', 'Ganhou!', 'Ganhou!', 'Ganhou!', 'Perdeu!', 'Perdeu!', 'Perdeu!', 'Ganhou!', 'Perdeu!', 'Perdeu!', 'Ganhou!', 'Ganhou!', 'Ganhou!', 'Ganhou!', 'Ganhou!', 'Ganhou!', 'Ganhou!', 'Ganhou!', 'Ganhou!', 'Ganhou!', 'Ganhou!', 'Perdeu!', 'Ganhou!', 'Ganhou!', 'Ganhou!', 'Ganhou!', 'Perdeu!', 'Ganhou!', 'Ganhou!', 'Ganhou!', 'Perdeu!', 'Ganhou!', 'Perdeu!', 'Ganhou!', 'Ganhou!', 'Perdeu!', 'Perdeu!', 'Ganhou!', 'Perdeu!', 'Ganhou!', 'Perdeu!', 'Ganhou!', 'Ganhou!', 'Ganhou!', 'Ganhou!', 'Ganhou!', 'Perdeu!', 'Ganhou!', 'Ganhou!', 'Perdeu!', 'Ganhou!', 'Ganhou!', 'Ganhou!', 'Ganhou!', 'Ganhou!', 'Perdeu!', 'Ganhou!', 'Perdeu!', 'Ganhou!', 'Ganhou!', 'Ganhou!', 'Ganhou!', 'Ganhou!', 'Perdeu!', 'Perdeu!', 'Ganhou!', 'Ganhou!', 'Perdeu!', 'Perdeu!', 'Perdeu!', 'Ganhou!', 'Perdeu!', 'Perdeu!', 'Ganhou!', 'Ganhou!', 'Perdeu!', 'Ganhou!', 'Ganhou!', 'Ganhou!', 'Ganhou!', 'Ganhou!', 'Ganhou!', 'Perdeu!', 'Perdeu!', 'Perdeu!', 'Ganhou!', 'Ganhou!', 'Perdeu!', 'Ganhou!', 'Perdeu!', 'Ganhou!', 'Ganhou!', 'Ganhou!', 'Ganhou!', 'Ganhou!', 'Perdeu!', 'Ganhou!', 'Ganhou!', 'Ganhou!', 'Perdeu!', 'Perdeu!', 'Ganhou!', 'Perdeu!', 'Ganhou!', 'Ganhou!', 'Ganhou!', 'Ganhou!', 'Perdeu!', 'Ganhou!', 'Perdeu!', 'Ganhou!', 'Ganhou!', 'Perdeu!', 'Ganhou!', 'Ganhou!', 'Ganhou!', 'Ganhou!', 'Perdeu!', 'Perdeu!', 'Ganhou!', 'Ganhou!', 'Perdeu!', 'Perdeu!', 'Ganhou!', 'Ganhou!', 'Perdeu!', 'Perdeu!', 'Ganhou!', 'Ganhou!', 'Ganhou!', 'Ganhou!', 'Ganhou!', 'Ganhou!', 'Ganhou!', 'Perdeu!', 'Perdeu!', 'Ganhou!', 'Ganhou!', 'Ganhou!', 'Perdeu!', 'Ganhou!', 'Ganhou!', 'Ganhou!', 'Perdeu!', 'Ganhou!', 'Perdeu!', 'Ganhou!', 'Ganhou!', 'Ganhou!', 'Ganhou!', 'Ganhou!', 'Ganhou!', 'Perdeu!', 'Ganhou!', 'Ganhou!', 'Ganhou!', 'Ganhou!', 'Ganhou!', 'Ganhou!', 'Perdeu!', 'Ganhou!', 'Perdeu!', 'Ganhou!', 'Perdeu!', 'Perdeu!', 'Perdeu!', 'Perdeu!', 'Ganhou!', 'Perdeu!', 'Perdeu!', 'Ganhou!', 'Ganhou!', 'Perdeu!', 'Perdeu!', 'Perdeu!', 'Ganhou!', 'Perdeu!', 'Ganhou!', 'Ganhou!', 'Ganhou!', 'Ganhou!', 'Perdeu!', 'Ganhou!', 'Ganhou!', 'Perdeu!', 'Perdeu!', 'Ganhou!', 'Ganhou!', 'Ganhou!', 'Perdeu!', 'Perdeu!', 'Ganhou!', 'Ganhou!', 'Ganhou!', 'Ganhou!', 'Ganhou!', 'Perdeu!', 'Ganhou!', 'Ganhou!', 'Ganhou!', 'Perdeu!', 'Ganhou!', 'Ganhou!', 'Perdeu!', 'Perdeu!', 'Ganhou!', 'Ganhou!', 'Ganhou!', 'Perdeu!', 'Perdeu!', 'Ganhou!', 'Ganhou!', 'Perdeu!', 'Perdeu!', 'Ganhou!', 'Ganhou!', 'Ganhou!', 'Perdeu!', 'Ganhou!', 'Perdeu!', 'Ganhou!', 'Ganhou!', 'Perdeu!', 'Ganhou!', 'Ganhou!', 'Ganhou!', 'Ganhou!', 'Perdeu!', 'Perdeu!', 'Perdeu!', 'Ganhou!', 'Perdeu!', 'Ganhou!', 'Perdeu!', 'Ganhou!', 'Ganhou!', 'Perdeu!', 'Perdeu!', 'Perdeu!', 'Ganhou!', 'Ganhou!', 'Ganhou!', 'Perdeu!', 'Perdeu!', 'Ganhou!', 'Perdeu!', 'Perdeu!', 'Ganhou!', 'Ganhou!', 'Ganhou!', 'Ganhou!', 'Ganhou!', 'Perdeu!', 'Ganhou!', 'Perdeu!', 'Ganhou!', 'Perdeu!', 'Perdeu!', 'Ganhou!', 'Perdeu!', 'Ganhou!', 'Ganhou!', 'Ganhou!', 'Ganhou!', 'Ganhou!', 'Ganhou!', 'Ganhou!', 'Ganhou!', 'Perdeu!', 'Perdeu!', 'Ganhou!', 'Perdeu!', 'Ganhou!', 'Ganhou!', 'Perdeu!', 'Ganhou!', 'Ganhou!', 'Perdeu!', 'Perdeu!', 'Ganhou!', 'Ganhou!', 'Ganhou!', 'Ganhou!', 'Ganhou!', 'Ganhou!', 'Perdeu!', 'Ganhou!', 'Perdeu!', 'Ganhou!', 'Ganhou!', 'Perdeu!', 'Perdeu!', 'Ganhou!', 'Ganhou!', 'Perdeu!', 'Perdeu!', 'Ganhou!', 'Ganhou!', 'Ganhou!', 'Ganhou!', 'Perdeu!', 'Perdeu!', 'Ganhou!', 'Ganhou!', 'Ganhou!', 'Perdeu!', 'Perdeu!', 'Ganhou!', 'Perdeu!', 'Ganhou!', 'Ganhou!', 'Ganhou!', 'Ganhou!', 'Perdeu!', 'Ganhou!', 'Ganhou!', 'Perdeu!', 'Ganhou!', 'Ganhou!', 'Perdeu!', 'Ganhou!', 'Ganhou!', 'Perdeu!', 'Ganhou!', 'Ganhou!', 'Ganhou!', 'Perdeu!', 'Ganhou!', 'Ganhou!', 'Ganhou!', 'Ganhou!', 'Perdeu!', 'Ganhou!', 'Perdeu!', 'Ganhou!', 'Perdeu!', 'Ganhou!', 'Ganhou!', 'Ganhou!', 'Ganhou!', 'Ganhou!', 'Ganhou!', 'Perdeu!', 'Ganhou!', 'Ganhou!', 'Ganhou!', 'Ganhou!', 'Ganhou!', 'Perdeu!', 'Ganhou!', 'Perdeu!', 'Perdeu!', 'Perdeu!', 'Perdeu!', 'Ganhou!', 'Ganhou!', 'Ganhou!', 'Ganhou!', 'Ganhou!', 'Ganhou!', 'Perdeu!', 'Ganhou!', 'Perdeu!', 'Perdeu!', 'Ganhou!', 'Perdeu!', 'Ganhou!', 'Ganhou!', 'Ganhou!', 'Perdeu!', 'Ganhou!', 'Perdeu!', 'Perdeu!', 'Ganhou!', 'Ganhou!', 'Ganhou!', 'Ganhou!', 'Perdeu!', 'Ganhou!', 'Ganhou!', 'Perdeu!', 'Ganhou!', 'Perdeu!', 'Ganhou!', 'Perdeu!', 'Perdeu!', 'Ganhou!', 'Ganhou!', 'Perdeu!', 'Ganhou!', 'Perdeu!', 'Perdeu!', 'Ganhou!', 'Perdeu!', 'Ganhou!', 'Ganhou!', 'Perdeu!', 'Perdeu!', 'Perdeu!', 'Perdeu!', 'Ganhou!', 'Ganhou!', 'Ganhou!', 'Ganhou!', 'Perdeu!', 'Ganhou!', 'Ganhou!', 'Ganhou!', 'Ganhou!', 'Perdeu!', 'Ganhou!', 'Perdeu!', 'Ganhou!', 'Ganhou!', 'Perdeu!', 'Perdeu!', 'Ganhou!', 'Ganhou!', 'Ganhou!', 'Ganhou!', 'Perdeu!', 'Ganhou!', 'Ganhou!', 'Perdeu!', 'Perdeu!', 'Ganhou!', 'Perdeu!', 'Ganhou!', 'Perdeu!', 'Ganhou!', 'Ganhou!', 'Ganhou!', 'Ganhou!', 'Ganhou!', 'Ganhou!', 'Ganhou!', 'Ganhou!', 'Perdeu!', 'Ganhou!', 'Ganhou!', 'Perdeu!', 'Ganhou!', 'Ganhou!', 'Ganhou!', 'Perdeu!', 'Ganhou!', 'Ganhou!', 'Ganhou!', 'Ganhou!', 'Perdeu!', 'Ganhou!', 'Ganhou!', 'Perdeu!', 'Ganhou!', 'Ganhou!', 'Ganhou!', 'Ganhou!', 'Ganhou!', 'Ganhou!', 'Ganhou!', 'Ganhou!', 'Perdeu!', 'Ganhou!', 'Ganhou!', 'Perdeu!', 'Perdeu!', 'Perdeu!', 'Perdeu!', 'Perdeu!', 'Ganhou!', 'Ganhou!', 'Ganhou!', 'Perdeu!', 'Perdeu!', 'Ganhou!', 'Perdeu!', 'Ganhou!', 'Ganhou!', 'Ganhou!', 'Perdeu!', 'Ganhou!', 'Ganhou!', 'Ganhou!', 'Perdeu!', 'Perdeu!', 'Ganhou!', 'Perdeu!', 'Perdeu!', 'Ganhou!', 'Ganhou!', 'Ganhou!', 'Ganhou!', 'Ganhou!', 'Ganhou!', 'Ganhou!', 'Ganhou!', 'Ganhou!', 'Ganhou!', 'Ganhou!', 'Perdeu!', 'Perdeu!', 'Ganhou!', 'Ganhou!', 'Perdeu!', 'Ganhou!', 'Perdeu!', 'Perdeu!', 'Perdeu!', 'Ganhou!', 'Ganhou!', 'Perdeu!', 'Perdeu!', 'Ganhou!', 'Ganhou!', 'Perdeu!', 'Ganhou!', 'Ganhou!', 'Ganhou!', 'Perdeu!', 'Perdeu!', 'Ganhou!', 'Ganhou!', 'Ganhou!', 'Perdeu!', 'Ganhou!', 'Perdeu!', 'Ganhou!', 'Ganhou!', 'Ganhou!', 'Ganhou!', 'Ganhou!', 'Ganhou!', 'Ganhou!', 'Ganhou!', 'Ganhou!', 'Ganhou!', 'Ganhou!', 'Ganhou!', 'Ganhou!', 'Ganhou!', 'Perdeu!', 'Ganhou!', 'Ganhou!', 'Ganhou!', 'Perdeu!', 'Perdeu!', 'Perdeu!', 'Ganhou!', 'Perdeu!', 'Ganhou!', 'Ganhou!', 'Ganhou!', 'Ganhou!', 'Ganhou!', 'Ganhou!', 'Perdeu!', 'Perdeu!', 'Ganhou!', 'Perdeu!', 'Ganhou!', 'Ganhou!', 'Perdeu!', 'Ganhou!', 'Ganhou!', 'Ganhou!', 'Ganhou!', 'Ganhou!', 'Ganhou!', 'Perdeu!', 'Ganhou!', 'Perdeu!', 'Perdeu!', 'Perdeu!', 'Ganhou!', 'Ganhou!', 'Perdeu!', 'Perdeu!', 'Perdeu!', 'Perdeu!', 'Ganhou!', 'Ganhou!', 'Ganhou!', 'Ganhou!', 'Perdeu!', 'Ganhou!', 'Perdeu!', 'Ganhou!', 'Perdeu!', 'Ganhou!', 'Perdeu!', 'Ganhou!', 'Ganhou!', 'Ganhou!', 'Perdeu!', 'Perdeu!', 'Ganhou!', 'Ganhou!', 'Ganhou!', 'Perdeu!', 'Perdeu!', 'Perdeu!', 'Perdeu!', 'Ganhou!', 'Ganhou!', 'Ganhou!', 'Ganhou!', 'Ganhou!', 'Ganhou!', 'Ganhou!', 'Ganhou!', 'Perdeu!', 'Ganhou!', 'Ganhou!', 'Ganhou!', 'Ganhou!', 'Perdeu!', 'Ganhou!', 'Ganhou!', 'Perdeu!', 'Ganhou!', 'Ganhou!', 'Perdeu!', 'Ganhou!', 'Ganhou!', 'Ganhou!', 'Ganhou!', 'Ganhou!', 'Ganhou!', 'Ganhou!', 'Ganhou!', 'Ganhou!', 'Ganhou!', 'Perdeu!', 'Perdeu!', 'Ganhou!', 'Perdeu!', 'Ganhou!', 'Ganhou!', 'Perdeu!', 'Ganhou!', 'Ganhou!', 'Ganhou!', 'Perdeu!', 'Perdeu!', 'Perdeu!', 'Ganhou!', 'Ganhou!', 'Perdeu!', 'Ganhou!', 'Perdeu!', 'Ganhou!', 'Ganhou!', 'Perdeu!', 'Ganhou!', 'Perdeu!', 'Perdeu!', 'Ganhou!', 'Ganhou!', 'Ganhou!', 'Perdeu!', 'Ganhou!', 'Ganhou!', 'Ganhou!', 'Ganhou!', 'Ganhou!', 'Ganhou!', 'Ganhou!', 'Perdeu!', 'Perdeu!', 'Ganhou!', 'Ganhou!', 'Perdeu!', 'Ganhou!', 'Perdeu!', 'Ganhou!', 'Ganhou!', 'Ganhou!', 'Perdeu!', 'Perdeu!', 'Ganhou!', 'Ganhou!', 'Ganhou!', 'Ganhou!', 'Ganhou!', 'Ganhou!', 'Ganhou!', 'Ganhou!', 'Ganhou!', 'Ganhou!', 'Ganhou!', 'Ganhou!', 'Ganhou!', 'Ganhou!', 'Perdeu!', 'Perdeu!', 'Perdeu!', 'Ganhou!', 'Perdeu!', 'Perdeu!', 'Perdeu!', 'Ganhou!', 'Ganhou!', 'Ganhou!', 'Ganhou!', 'Perdeu!', 'Ganhou!', 'Ganhou!', 'Ganhou!', 'Ganhou!', 'Ganhou!', 'Ganhou!', 'Perdeu!', 'Ganhou!', 'Ganhou!', 'Perdeu!', 'Ganhou!', 'Ganhou!', 'Ganhou!', 'Ganhou!', 'Ganhou!', 'Ganhou!', 'Ganhou!', 'Ganhou!', 'Perdeu!', 'Ganhou!', 'Ganhou!', 'Ganhou!', 'Perdeu!', 'Perdeu!', 'Perdeu!', 'Ganhou!', 'Perdeu!', 'Ganhou!', 'Perdeu!', 'Ganhou!', 'Perdeu!', 'Ganhou!', 'Ganhou!', 'Ganhou!', 'Ganhou!', 'Ganhou!', 'Perdeu!', 'Ganhou!', 'Ganhou!', 'Ganhou!', 'Perdeu!', 'Ganhou!', 'Ganhou!', 'Perdeu!', 'Ganhou!', 'Ganhou!', 'Ganhou!', 'Perdeu!', 'Perdeu!', 'Ganhou!', 'Perdeu!', 'Perdeu!', 'Ganhou!', 'Perdeu!', 'Ganhou!', 'Perdeu!', 'Ganhou!', 'Ganhou!', 'Perdeu!', 'Ganhou!', 'Ganhou!', 'Ganhou!', 'Ganhou!', 'Ganhou!', 'Ganhou!', 'Ganhou!', 'Ganhou!', 'Ganhou!', 'Perdeu!', 'Perdeu!', 'Ganhou!', 'Ganhou!', 'Perdeu!', 'Ganhou!', 'Perdeu!', 'Perdeu!', 'Ganhou!', 'Perdeu!', 'Ganhou!', 'Ganhou!', 'Ganhou!', 'Perdeu!', 'Ganhou!', 'Perdeu!', 'Ganhou!', 'Ganhou!', 'Perdeu!', 'Perdeu!', 'Ganhou!', 'Ganhou!', 'Ganhou!', 'Ganhou!', 'Ganhou!', 'Perdeu!', 'Perdeu!', 'Perdeu!', 'Ganhou!', 'Perdeu!', 'Perdeu!', 'Ganhou!', 'Ganhou!', 'Perdeu!', 'Perdeu!', 'Perdeu!', 'Ganhou!', 'Perdeu!', 'Ganhou!', 'Ganhou!', 'Ganhou!', 'Perdeu!', 'Perdeu!', 'Perdeu!', 'Ganhou!', 'Ganhou!', 'Perdeu!', 'Perdeu!', 'Ganhou!', 'Ganhou!', 'Perdeu!', 'Perdeu!', 'Ganhou!', 'Ganhou!', 'Ganhou!', 'Ganhou!', 'Perdeu!', 'Ganhou!', 'Ganhou!', 'Ganhou!', 'Perdeu!', 'Perdeu!', 'Ganhou!', 'Ganhou!', 'Ganhou!', 'Ganhou!', 'Ganhou!', 'Ganhou!', 'Ganhou!', 'Ganhou!', 'Ganhou!', 'Ganhou!', 'Ganhou!', 'Perdeu!', 'Perdeu!', 'Perdeu!', 'Perdeu!', 'Ganhou!', 'Ganhou!', 'Ganhou!', 'Perdeu!', 'Ganhou!', 'Ganhou!', 'Ganhou!', 'Perdeu!', 'Ganhou!', 'Ganhou!', 'Perdeu!', 'Ganhou!', 'Perdeu!', 'Ganhou!', 'Ganhou!', 'Ganhou!', 'Ganhou!', 'Perdeu!', 'Perdeu!', 'Perdeu!', 'Ganhou!', 'Perdeu!', 'Perdeu!', 'Perdeu!', 'Perdeu!', 'Perdeu!', 'Perdeu!', 'Ganhou!', 'Ganhou!', 'Ganhou!', 'Ganhou!', 'Ganhou!', 'Ganhou!', 'Ganhou!', 'Ganhou!', 'Ganhou!', 'Perdeu!', 'Ganhou!', 'Ganhou!', 'Ganhou!', 'Perdeu!', 'Ganhou!', 'Perdeu!', 'Ganhou!', 'Ganhou!', 'Ganhou!', 'Perdeu!', 'Perdeu!', 'Perdeu!', 'Ganhou!', 'Ganhou!', 'Ganhou!', 'Perdeu!', 'Ganhou!', 'Perdeu!', 'Perdeu!', 'Perdeu!', 'Ganhou!', 'Perdeu!', 'Ganhou!', 'Ganhou!', 'Ganhou!', 'Ganhou!', 'Ganhou!', 'Perdeu!', 'Perdeu!', 'Perdeu!', 'Ganhou!', 'Ganhou!', 'Ganhou!', 'Ganhou!', 'Ganhou!', 'Perdeu!', 'Ganhou!', 'Ganhou!', 'Perdeu!', 'Ganhou!', 'Ganhou!', 'Ganhou!', 'Perdeu!', 'Ganhou!', 'Perdeu!', 'Perdeu!', 'Ganhou!', 'Ganhou!', 'Ganhou!', 'Ganhou!', 'Ganhou!', 'Ganhou!', 'Ganhou!', 'Ganhou!', 'Perdeu!', 'Ganhou!', 'Perdeu!', 'Ganhou!', 'Ganhou!', 'Ganhou!', 'Ganhou!', 'Perdeu!', 'Ganhou!', 'Ganhou!', 'Perdeu!', 'Ganhou!', 'Perdeu!', 'Perdeu!', 'Ganhou!', 'Ganhou!', 'Ganhou!', 'Ganhou!', 'Ganhou!', 'Perdeu!', 'Ganhou!', 'Ganhou!', 'Ganhou!', 'Ganhou!', 'Ganhou!', 'Ganhou!', 'Ganhou!', 'Ganhou!', 'Ganhou!', 'Ganhou!', 'Ganhou!', 'Perdeu!', 'Perdeu!', 'Ganhou!', 'Perdeu!', 'Ganhou!', 'Ganhou!', 'Ganhou!', 'Ganhou!', 'Ganhou!', 'Perdeu!', 'Ganhou!', 'Ganhou!', 'Ganhou!', 'Ganhou!', 'Ganhou!', 'Ganhou!', 'Ganhou!', 'Perdeu!', 'Ganhou!', 'Ganhou!', 'Perdeu!', 'Ganhou!', 'Ganhou!', 'Ganhou!', 'Ganhou!', 'Ganhou!', 'Ganhou!', 'Ganhou!', 'Ganhou!', 'Ganhou!', 'Ganhou!', 'Perdeu!', 'Ganhou!', 'Perdeu!', 'Ganhou!', 'Ganhou!', 'Ganhou!', 'Ganhou!', 'Ganhou!', 'Perdeu!', 'Ganhou!', 'Perdeu!', 'Ganhou!', 'Ganhou!', 'Perdeu!', 'Ganhou!', 'Ganhou!', 'Ganhou!', 'Perdeu!', 'Perdeu!', 'Ganhou!', 'Ganhou!', 'Perdeu!', 'Perdeu!', 'Perdeu!', 'Ganhou!', 'Ganhou!', 'Ganhou!', 'Ganhou!', 'Ganhou!', 'Ganhou!', 'Perdeu!', 'Ganhou!', 'Perdeu!', 'Ganhou!', 'Ganhou!', 'Ganhou!', 'Ganhou!', 'Ganhou!', 'Ganhou!', 'Ganhou!', 'Ganhou!', 'Ganhou!', 'Perdeu!', 'Ganhou!', 'Ganhou!', 'Ganhou!', 'Ganhou!', 'Ganhou!', 'Ganhou!', 'Ganhou!', 'Ganhou!', 'Ganhou!', 'Ganhou!', 'Ganhou!', 'Ganhou!', 'Perdeu!', 'Ganhou!', 'Ganhou!', 'Perdeu!', 'Perdeu!', 'Perdeu!', 'Ganhou!', 'Ganhou!', 'Ganhou!', 'Ganhou!', 'Ganhou!', 'Perdeu!', 'Ganhou!', 'Perdeu!', 'Perdeu!', 'Ganhou!', 'Ganhou!', 'Ganhou!', 'Ganhou!', 'Ganhou!', 'Ganhou!', 'Ganhou!', 'Ganhou!', 'Ganhou!', 'Ganhou!', 'Ganhou!', 'Ganhou!', 'Ganhou!', 'Ganhou!', 'Perdeu!', 'Ganhou!', 'Ganhou!', 'Ganhou!', 'Ganhou!', 'Perdeu!', 'Perdeu!', 'Ganhou!', 'Perdeu!', 'Ganhou!', 'Ganhou!', 'Perdeu!', 'Ganhou!', 'Ganhou!', 'Ganhou!', 'Perdeu!', 'Perdeu!', 'Ganhou!', 'Ganhou!', 'Ganhou!', 'Ganhou!', 'Ganhou!', 'Ganhou!', 'Perdeu!', 'Ganhou!', 'Ganhou!', 'Ganhou!', 'Ganhou!', 'Perdeu!', 'Ganhou!', 'Ganhou!', 'Ganhou!', 'Ganhou!', 'Ganhou!', 'Ganhou!', 'Perdeu!', 'Ganhou!', 'Ganhou!', 'Perdeu!', 'Ganhou!', 'Ganhou!', 'Perdeu!', 'Ganhou!', 'Ganhou!', 'Ganhou!', 'Ganhou!', 'Perdeu!', 'Perdeu!', 'Perdeu!', 'Ganhou!', 'Perdeu!', 'Ganhou!', 'Perdeu!', 'Perdeu!', 'Ganhou!', 'Ganhou!', 'Ganhou!', 'Perdeu!', 'Ganhou!', 'Ganhou!', 'Ganhou!', 'Perdeu!', 'Ganhou!', 'Ganhou!', 'Ganhou!', 'Perdeu!', 'Ganhou!', 'Ganhou!', 'Ganhou!', 'Ganhou!', 'Perdeu!', 'Ganhou!', 'Ganhou!', 'Ganhou!', 'Perdeu!', 'Perdeu!', 'Perdeu!', 'Perdeu!', 'Ganhou!', 'Ganhou!', 'Ganhou!', 'Ganhou!', 'Ganhou!', 'Ganhou!', 'Perdeu!', 'Ganhou!', 'Ganhou!', 'Perdeu!', 'Ganhou!', 'Ganhou!', 'Ganhou!', 'Perdeu!', 'Ganhou!', 'Perdeu!', 'Perdeu!', 'Ganhou!', 'Ganhou!', 'Perdeu!', 'Ganhou!', 'Ganhou!', 'Ganhou!', 'Ganhou!', 'Ganhou!', 'Ganhou!', 'Perdeu!', 'Ganhou!', 'Ganhou!', 'Perdeu!', 'Ganhou!', 'Ganhou!', 'Perdeu!', 'Ganhou!', 'Ganhou!', 'Perdeu!', 'Ganhou!', 'Ganhou!']\n"
     ]
    }
   ],
   "source": [
    "NUMERO_EP =1500\n",
    "results = experimento(NUMERO_EP)\n",
    "\n",
    "print(results)"
   ]
  },
  {
   "cell_type": "code",
   "execution_count": 7,
   "id": "24a6eee6",
   "metadata": {},
   "outputs": [
    {
     "data": {
      "text/plain": [
       "Text(0, 0.5, 'Ocorrências')"
      ]
     },
     "execution_count": 7,
     "metadata": {},
     "output_type": "execute_result"
    },
    {
     "data": {
      "image/png": "[encoded data removed]",
      "text/plain": [
       "<Figure size 640x480 with 1 Axes>"
      ]
     },
     "metadata": {},
     "output_type": "display_data"
    }
   ],
   "source": [
    "eixo = sns.histplot(results, discrete=True, color = \"indigo\")\n",
    "eixo.set_xlabel(\"Resultados\")\n",
    "eixo.set_ylabel(\"Ocorrências\")"
   ]
  },
  {
   "cell_type": "markdown",
   "id": "eb2467d7",
   "metadata": {},
   "source": [
    "## Discussões\n",
    "\n",
    "Realizando a simulação computacional proposta para o problema de Monty Hall, com base na solução de Marilyn von Savant, é possível analisar o resultado obtido. Realizando 1500 repetições do problema, sendo que o participante sempre troca de porta ao final do programa, obtivemos cerca de 1000 casos em que o participante ganha o carro e cerca de 500 casos em que o participante não ganha, como observado no histograma plotado. Sendo assim, considerando o total de episódios simulados, de fato, ao trocar de porta, a chance do participante ganhar passa a ser de 2/3, como proposto por Marilyn."
   ]
  },
  {
   "cell_type": "markdown",
   "id": "21668c84",
   "metadata": {},
   "source": [
    "## Conclusão\n",
    "Com a simulação computacional proposta para o problema de Monty Hall, pudemos analisar que, de fato, ao trocar de porta no fim do programa a chance do participante ganhar o carro sobe para 2/3. Sendo assim, provamos a solução apresentada pro marilyn von Savant, indo contra a opinião de muitos matemáticos da época."
   ]
  },
  {
   "cell_type": "markdown",
   "id": "9f3469c9",
   "metadata": {},
   "source": [
    "### Referências\n",
    "\n",
    "CASSAR, DR. LMA-203 03.0 - Simulação e experimentos computacionais. Microsoft Teams, T03-LMA-203 - Probabilidade e Estatística, Material de Aula.\n",
    "\n",
    "PYTHON SOFTWARE FOUNDATION. Python 3 documentation: random — Generate pseudo-random numbers. Disponível em: https://docs.python.org/3/library/random.html. Acesso em: 20 nov. 2024."
   ]
  }
 ],
 "metadata": {
  "kernelspec": {
   "display_name": "ilumpy",
   "language": "python",
   "name": "ilumpy"
  },
  "language_info": {
   "codemirror_mode": {
    "name": "ipython",
    "version": 3
   },
   "file_extension": ".py",
   "mimetype": "text/x-python",
   "name": "python",
   "nbconvert_exporter": "python",
   "pygments_lexer": "ipython3",
   "version": "3.11.6"
  }
 },
 "nbformat": 4,
 "nbformat_minor": 5
}
