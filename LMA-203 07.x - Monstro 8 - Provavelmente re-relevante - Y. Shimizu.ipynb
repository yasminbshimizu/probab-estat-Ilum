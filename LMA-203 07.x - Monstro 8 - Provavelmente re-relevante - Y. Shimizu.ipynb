{
 "cells": [
  {
   "cell_type": "markdown",
   "id": "46f15573",
   "metadata": {},
   "source": [
    "### 1. Qual a probabilidade de sortear duas cartas vermelhas em um baralho convencional (52 cartas)?\n",
    "\n",
    "Para calcular a probabilidade de sortear duas cartas vermelhas em um baralho convencional (considerando que serão retiradas exatamente duas cartas do baralho), primeiramente, a probabilidade da primeira carta retirada ser é de $\\frac{26}{52} = \\frac{1}{2}$, visto que exitem 26 cartas vermelhas dentre as 52 do baralho. Para a probabilidade da segunda carta retirada do baralho ser vermelha, temos $\\frac {25}{51}$, visto que restaram 25 cartas vermelhas dentre as 51 cartas restantes. \n",
    "Desse modo, como queremos que a primera ***e*** a segunda carta sejam vermelhas, a probabilidade $P_1(2)$ de tirar exatamente 2 cartas vermelhas num baralho convencional é\n",
    "$$P_1(2) = \\frac{1}{2} \\times \\frac{25}{51}$$\n",
    "\n",
    "Calculando tal probabilidade com apoio da linguagem computacional *Python*:"
   ]
  },
  {
   "cell_type": "code",
   "execution_count": 1,
   "id": "a7b0b41a",
   "metadata": {},
   "outputs": [
    {
     "name": "stdout",
     "output_type": "stream",
     "text": [
      "A probabilidade de tirar exatamente 2 cartas vermelhas num baralho convencional é 0.245\n"
     ]
    }
   ],
   "source": [
    "p1 = (1/2)*(25/51)\n",
    "\n",
    "print(\"A probabilidade de tirar exatamente 2 cartas vermelhas num baralho convencional é\", round(p1,3))"
   ]
  },
  {
   "cell_type": "markdown",
   "id": "8574fcd8",
   "metadata": {},
   "source": [
    "Portanto, a probabilidade $P_1(2)$ de tirar exatamente 2 cartas vermelhas num baralho convencional é $P_1(2) = 24,5\\%$."
   ]
  },
  {
   "cell_type": "markdown",
   "id": "4d2bb889",
   "metadata": {},
   "source": [
    "### 2. Qual a probabilidade de sortear 5 cartas do mesmo naipe em um baralho convencional (52 cartas)?\n",
    "\n",
    "Primeiramente, para calcular a probabilidade de sortear cinco cartas do mesmo naipe em um baralho convencional (considerando que serão retiradas exatamente cinco cartas do baralho), a probabilidade da primeira carta retirada é irrelevnte, sendo que esta apenas definirá o naipe para as demais cartas, ou seja, a probabilidade da primera carta é $\\frac{52}{52} = 1$ , visto que qualquer carta pode ser retirada dentre as 52 do baralho. Já para as próximas cartas, como há 13 cartas de cada naipe num  baralho convencional, sendo que uma delas foi retirada, a probabilidade da segunda carta retirada do baralho ser do mesmo naipe da primeira, temos $\\frac {12}{51}$, visto que restaram 12 cartas do naipe retirado dentre as 51 cartas restantes. O mesmo vale para as 3ª, 4ª e 5ª cartas retiradas, removendo uma unidade do deniminador e do numerador. Assim, a proabilidade $P_2(5)$ de sortear cinco cartas do mesmo naipe em um baralho convencional é dada por:\n",
    "$$P_2(5) = 1 \\times \\frac{12}{51} \\times \\frac{11}{50} \\times \\frac{10}{49} \\times \\frac{9}{48}$$\n",
    "\n",
    "Calculando tal probabilidade com apoio da linguagem computacional *Python*:"
   ]
  },
  {
   "cell_type": "code",
   "execution_count": 2,
   "id": "ce824efe",
   "metadata": {},
   "outputs": [
    {
     "name": "stdout",
     "output_type": "stream",
     "text": [
      "A probabilidade de tirar exatamente 5 cartas do mesmo naipe num baralho convencional é 0.002\n"
     ]
    }
   ],
   "source": [
    "p2 = 1*(12/51)*(11/50)*(10/49)*(9/48)\n",
    "\n",
    "print(\"A probabilidade de tirar exatamente 5 cartas do mesmo naipe num baralho convencional é\", round(p2,3))"
   ]
  },
  {
   "cell_type": "markdown",
   "id": "9819f23c",
   "metadata": {},
   "source": [
    "Portanto, a probabilidade $P_2(5)$ de tirar exatamente 5 cartas do mesmo naipe num baralho convencional é $P_2(5) = 0,2\\%$."
   ]
  },
  {
   "cell_type": "markdown",
   "id": "90166241",
   "metadata": {},
   "source": [
    "### 4. Existem 23 pessoas em uma sala. Qual é a chance de que existam pelo menos duas pessoas que façam aniversário no mesmo dia dentro desta sala? Considerar um ano de 365 dias e mesma chance de nascer em qualquer dia do ano.\n",
    "\n",
    "Para calcular os casos em que pelo menos duas pessoas nascem no mesmo dia, deve-se consideram uma combinação linear de uma série de casos em que há 2 pessoas que nasceram no mesmo dia, 3 pessoas que nasceram no mesmo dia, 4 pessoas que nasceram no mesmo dia... até 23 pessoas que nasceram no mesmo dia. Como esse cálculo seria extremamente complicado de definir, com inúmeras situações possíveis, podemos simplicá-lo ao calcular o complementar do evento que ser quer: nenhum estudante ter nascido no mesmo dia. Assim, primeiramente calculamos o caso em que nenhum estudante nasce no mesmo dia e subtraímos do total (1).\n",
    "\n",
    "Para calcular a probabilidade de todos da sala nascerem em dias diferentes, podemos calcular a probabilidade $X_4(23)$ do aniversário de cada um dos 23 estudante ser num dia diferente. Criando um critério de ordenação dos estudantes, o dia em que o primeiro estudante nasce é irrelevante, mas o segundo estudante não pode nascer no mesmo dia que o primeiro, o terceiro não pode nascer no mesmo dia que os dois anteriores, e assim por diante até o 23º aluno. Assim, probabilidade $X_4(23)$ do aniversário de cada um dos 23 estudante ser num dia diferente é:\n",
    "$$X_4(23) =\\frac{365}{365} \\times \\frac{364}{365} \\times \\frac{363}{365} \\times \\dots \\times \\frac{343}{365}$$\n",
    "a qual pode ser representada pelo produtório\n",
    "$$X_4(23) = \\prod_{n=0}^{22}\\frac{365-n}{365}$$\n",
    "em que $n$ representa uma ordenação dos estudantes.\n",
    "\n",
    "Desse modo, a probabiliadade $P_4(23)$ de pelo menos dois estudantes numa sala de 23 alunos nascer no mesmo dia é de:\n",
    "\n",
    "$$P_4(23) = 1 - X_4(23)$$\n",
    "\n",
    "Realizando tais cálculos com apoio da linguagem computacional *Python*:"
   ]
  },
  {
   "cell_type": "code",
   "execution_count": 3,
   "id": "f1a578c1",
   "metadata": {},
   "outputs": [
    {
     "name": "stdout",
     "output_type": "stream",
     "text": [
      "A probabilidade de nenhum estudante da sala nascer no mesmo dia é: 0.493\n",
      "A probabilidade de pelo menos duas pessoas na sala nascerem no mesmo dia é de: 0.507\n"
     ]
    }
   ],
   "source": [
    "x4 = 1 \n",
    "for n in range(23):\n",
    "    x4*=(365-n)/365\n",
    "\n",
    "p4 = 1 - x4    \n",
    "\n",
    "print(\"A probabilidade de nenhum estudante da sala nascer no mesmo dia é:\",round(x4,3))\n",
    "print(\"A probabilidade de pelo menos duas pessoas na sala nascerem no mesmo dia é de:\", round(p4,3))"
   ]
  },
  {
   "cell_type": "markdown",
   "id": "b9ebae04",
   "metadata": {},
   "source": [
    "Portanto, a probabilidade $P_4(23)$ de pelo menos duas pessoas nascerem no mesmo dia numa sala de 23 estudantes é de $P_4(23) = 50,7\\%$."
   ]
  }
 ],
 "metadata": {
  "kernelspec": {
   "display_name": "ilumpy",
   "language": "python",
   "name": "ilumpy"
  },
  "language_info": {
   "codemirror_mode": {
    "name": "ipython",
    "version": 3
   },
   "file_extension": ".py",
   "mimetype": "text/x-python",
   "name": "python",
   "nbconvert_exporter": "python",
   "pygments_lexer": "ipython3",
   "version": "3.11.6"
  }
 },
 "nbformat": 4,
 "nbformat_minor": 5
}
