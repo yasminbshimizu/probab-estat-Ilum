{
 "cells": [
  {
   "cell_type": "markdown",
   "id": "aec1bdca",
   "metadata": {},
   "source": [
    "## Introdução\n",
    "A estatística descritiva tem como objetivo realizar uma análise de dados atráves de características gerais observadas em cálculos matemáticos, atuando como um \"resumo\" do acervo de dados completo. Neste trabalho, fazermos estatísticas descritivas de dados do \"Censo Ilum 2024\", realizado pelo Prof. Dr. Daniel R. Cassar em sala de aula com os alunos da turma 2024 por meio de um Microsoft Forms no Teams, com perguntas qualitativas e quantitativas. Com apoio do Python, com as bibliotecas os, pandas, matplotlib e seaborn, foi calculada máximo, mínimo, média, mediana, moda, variância e desvio padrão de cada conjunto de dados, com plotagens de gráficos de caixa, de pontos, de barras (ou histogramas) e de pizza, de acordo com a melhor visualização para análise de cada um."
   ]
  },
  {
   "cell_type": "markdown",
   "id": "d14ec188",
   "metadata": {},
   "source": [
    "#### Importando Bibliotecas"
   ]
  },
  {
   "cell_type": "code",
   "execution_count": 93,
   "id": "65dd7cf0",
   "metadata": {},
   "outputs": [],
   "source": [
    "import os\n",
    "import pandas as pd\n",
    "import statistics as st\n",
    "import matplotlib.pyplot as plt\n",
    "import seaborn as sns"
   ]
  },
  {
   "cell_type": "markdown",
   "id": "3f63ccf1",
   "metadata": {},
   "source": [
    "#### Importando e lidando com os dados"
   ]
  },
  {
   "cell_type": "code",
   "execution_count": 94,
   "id": "13514845",
   "metadata": {},
   "outputs": [
    {
     "data": {
      "text/plain": [
       "'C:\\\\Users\\\\yasmin24023\\\\OneDrive - ILUM ESCOLA DE CIÊNCIA\\\\24.2 - Probabilidade e Estatística'"
      ]
     },
     "execution_count": 94,
     "metadata": {},
     "output_type": "execute_result"
    }
   ],
   "source": [
    "os.getcwd()"
   ]
  },
  {
   "cell_type": "code",
   "execution_count": 95,
   "id": "93f3a247",
   "metadata": {},
   "outputs": [
    {
     "data": {
      "text/html": [
       "<div>\n",
       "<style scoped>\n",
       "    .dataframe tbody tr th:only-of-type {\n",
       "        vertical-align: middle;\n",
       "    }\n",
       "\n",
       "    .dataframe tbody tr th {\n",
       "        vertical-align: top;\n",
       "    }\n",
       "\n",
       "    .dataframe thead th {\n",
       "        text-align: right;\n",
       "    }\n",
       "</style>\n",
       "<table border=\"1\" class=\"dataframe\">\n",
       "  <thead>\n",
       "    <tr style=\"text-align: right;\">\n",
       "      <th></th>\n",
       "      <th>Qual é a sua altura em centímetros?</th>\n",
       "      <th>Qual é o número de sapato que você calça?</th>\n",
       "      <th>Qual o mês do seu aniversário?</th>\n",
       "      <th>Quantos irmãos você tem?</th>\n",
       "      <th>Quantos livros você leu no ano passado?\\n</th>\n",
       "      <th>Das cores abaixo, qual é a sua favorita (ou a cor que mais gosta se sua cor favorita não estiver na lista)?</th>\n",
       "      <th>Qual a sua opinião sobre azeitona?</th>\n",
       "      <th>Qual destas linhas de estudo é a que você tem mais afinidade?</th>\n",
       "      <th>Qual destas linhas de estudo é a que você tem menos afinidade?</th>\n",
       "      <th>Cachorros ou gatos?</th>\n",
       "      <th>Escolha um número aleatório entre 0 e 100\\n</th>\n",
       "    </tr>\n",
       "  </thead>\n",
       "  <tbody>\n",
       "    <tr>\n",
       "      <th>0</th>\n",
       "      <td>181</td>\n",
       "      <td>42</td>\n",
       "      <td>7</td>\n",
       "      <td>1</td>\n",
       "      <td>3.0</td>\n",
       "      <td>Verde</td>\n",
       "      <td>5.0</td>\n",
       "      <td>Ciências da vida</td>\n",
       "      <td>Ciências da matéria</td>\n",
       "      <td>Gatos!</td>\n",
       "      <td>77</td>\n",
       "    </tr>\n",
       "    <tr>\n",
       "      <th>1</th>\n",
       "      <td>163</td>\n",
       "      <td>34</td>\n",
       "      <td>6</td>\n",
       "      <td>1</td>\n",
       "      <td>4.0</td>\n",
       "      <td>Azul</td>\n",
       "      <td>1.0</td>\n",
       "      <td>Ciências da vida</td>\n",
       "      <td>Ciências humanas</td>\n",
       "      <td>Cachorros!</td>\n",
       "      <td>7</td>\n",
       "    </tr>\n",
       "    <tr>\n",
       "      <th>2</th>\n",
       "      <td>178</td>\n",
       "      <td>40</td>\n",
       "      <td>11</td>\n",
       "      <td>1</td>\n",
       "      <td>16.0</td>\n",
       "      <td>Vermelho</td>\n",
       "      <td>4.0</td>\n",
       "      <td>Ciências da matéria</td>\n",
       "      <td>Ciências humanas</td>\n",
       "      <td>Cachorros!</td>\n",
       "      <td>69</td>\n",
       "    </tr>\n",
       "    <tr>\n",
       "      <th>3</th>\n",
       "      <td>153</td>\n",
       "      <td>36</td>\n",
       "      <td>3</td>\n",
       "      <td>2</td>\n",
       "      <td>12.0</td>\n",
       "      <td>Preto</td>\n",
       "      <td>1.0</td>\n",
       "      <td>Ciências da matéria</td>\n",
       "      <td>Ciências humanas</td>\n",
       "      <td>Gatos!</td>\n",
       "      <td>13</td>\n",
       "    </tr>\n",
       "    <tr>\n",
       "      <th>4</th>\n",
       "      <td>195</td>\n",
       "      <td>43</td>\n",
       "      <td>2</td>\n",
       "      <td>0</td>\n",
       "      <td>20.0</td>\n",
       "      <td>Azul</td>\n",
       "      <td>3.0</td>\n",
       "      <td>Ciências da vida</td>\n",
       "      <td>Ciências humanas</td>\n",
       "      <td>Cachorros!</td>\n",
       "      <td>38</td>\n",
       "    </tr>\n",
       "    <tr>\n",
       "      <th>5</th>\n",
       "      <td>184</td>\n",
       "      <td>43</td>\n",
       "      <td>5</td>\n",
       "      <td>1</td>\n",
       "      <td>6.0</td>\n",
       "      <td>Roxo</td>\n",
       "      <td>4.0</td>\n",
       "      <td>Ciências da matéria</td>\n",
       "      <td>Ciências humanas</td>\n",
       "      <td>Gatos!</td>\n",
       "      <td>93</td>\n",
       "    </tr>\n",
       "    <tr>\n",
       "      <th>6</th>\n",
       "      <td>164</td>\n",
       "      <td>39</td>\n",
       "      <td>11</td>\n",
       "      <td>2</td>\n",
       "      <td>3.0</td>\n",
       "      <td>Azul</td>\n",
       "      <td>5.0</td>\n",
       "      <td>Ciências da matéria</td>\n",
       "      <td>Ciências humanas</td>\n",
       "      <td>Cachorros!</td>\n",
       "      <td>89</td>\n",
       "    </tr>\n",
       "    <tr>\n",
       "      <th>7</th>\n",
       "      <td>158</td>\n",
       "      <td>35</td>\n",
       "      <td>9</td>\n",
       "      <td>2</td>\n",
       "      <td>4.0</td>\n",
       "      <td>Azul</td>\n",
       "      <td>5.0</td>\n",
       "      <td>Ciências da matéria</td>\n",
       "      <td>Ciências da vida</td>\n",
       "      <td>Gatos!</td>\n",
       "      <td>77</td>\n",
       "    </tr>\n",
       "    <tr>\n",
       "      <th>8</th>\n",
       "      <td>169</td>\n",
       "      <td>41</td>\n",
       "      <td>5</td>\n",
       "      <td>1</td>\n",
       "      <td>6.0</td>\n",
       "      <td>Azul</td>\n",
       "      <td>2.0</td>\n",
       "      <td>Ciências da matéria</td>\n",
       "      <td>Ciências da vida</td>\n",
       "      <td>Gatos!</td>\n",
       "      <td>7</td>\n",
       "    </tr>\n",
       "    <tr>\n",
       "      <th>9</th>\n",
       "      <td>173</td>\n",
       "      <td>43</td>\n",
       "      <td>4</td>\n",
       "      <td>2</td>\n",
       "      <td>1.0</td>\n",
       "      <td>Azul</td>\n",
       "      <td>4.0</td>\n",
       "      <td>Ciências da vida</td>\n",
       "      <td>Ciências da vida</td>\n",
       "      <td>Gatos!</td>\n",
       "      <td>71</td>\n",
       "    </tr>\n",
       "    <tr>\n",
       "      <th>10</th>\n",
       "      <td>156</td>\n",
       "      <td>34</td>\n",
       "      <td>7</td>\n",
       "      <td>2</td>\n",
       "      <td>12.0</td>\n",
       "      <td>Vermelho</td>\n",
       "      <td>1.0</td>\n",
       "      <td>Ciências da vida</td>\n",
       "      <td>Ciências da matéria</td>\n",
       "      <td>Gatos!</td>\n",
       "      <td>77</td>\n",
       "    </tr>\n",
       "    <tr>\n",
       "      <th>11</th>\n",
       "      <td>170</td>\n",
       "      <td>41</td>\n",
       "      <td>6</td>\n",
       "      <td>2</td>\n",
       "      <td>4.0</td>\n",
       "      <td>Azul</td>\n",
       "      <td>3.0</td>\n",
       "      <td>Ciências da matéria</td>\n",
       "      <td>Ciências humanas</td>\n",
       "      <td>Cachorros!</td>\n",
       "      <td>36</td>\n",
       "    </tr>\n",
       "    <tr>\n",
       "      <th>12</th>\n",
       "      <td>162</td>\n",
       "      <td>36</td>\n",
       "      <td>10</td>\n",
       "      <td>3</td>\n",
       "      <td>7.0</td>\n",
       "      <td>Rosa</td>\n",
       "      <td>5.0</td>\n",
       "      <td>Ciências da vida</td>\n",
       "      <td>Ciências humanas</td>\n",
       "      <td>Cachorros!</td>\n",
       "      <td>35</td>\n",
       "    </tr>\n",
       "    <tr>\n",
       "      <th>13</th>\n",
       "      <td>184</td>\n",
       "      <td>42</td>\n",
       "      <td>5</td>\n",
       "      <td>1</td>\n",
       "      <td>20.0</td>\n",
       "      <td>Vermelho</td>\n",
       "      <td>5.0</td>\n",
       "      <td>Ciências da matéria</td>\n",
       "      <td>Ciências da vida</td>\n",
       "      <td>Cachorros!</td>\n",
       "      <td>8</td>\n",
       "    </tr>\n",
       "    <tr>\n",
       "      <th>14</th>\n",
       "      <td>178</td>\n",
       "      <td>41</td>\n",
       "      <td>1</td>\n",
       "      <td>1</td>\n",
       "      <td>4.0</td>\n",
       "      <td>Preto</td>\n",
       "      <td>3.0</td>\n",
       "      <td>Ciências da matéria</td>\n",
       "      <td>Ciências humanas</td>\n",
       "      <td>Gatos!</td>\n",
       "      <td>13</td>\n",
       "    </tr>\n",
       "    <tr>\n",
       "      <th>15</th>\n",
       "      <td>163</td>\n",
       "      <td>38</td>\n",
       "      <td>11</td>\n",
       "      <td>1</td>\n",
       "      <td>110.0</td>\n",
       "      <td>Azul</td>\n",
       "      <td>4.0</td>\n",
       "      <td>Ciências da matéria</td>\n",
       "      <td>Ciências da vida</td>\n",
       "      <td>Cachorros!</td>\n",
       "      <td>7</td>\n",
       "    </tr>\n",
       "    <tr>\n",
       "      <th>16</th>\n",
       "      <td>193</td>\n",
       "      <td>44</td>\n",
       "      <td>5</td>\n",
       "      <td>2</td>\n",
       "      <td>0.0</td>\n",
       "      <td>Roxo</td>\n",
       "      <td>5.0</td>\n",
       "      <td>Ciências da matéria</td>\n",
       "      <td>Ciências humanas</td>\n",
       "      <td>NaN</td>\n",
       "      <td>7</td>\n",
       "    </tr>\n",
       "    <tr>\n",
       "      <th>17</th>\n",
       "      <td>180</td>\n",
       "      <td>42</td>\n",
       "      <td>5</td>\n",
       "      <td>1</td>\n",
       "      <td>19.0</td>\n",
       "      <td>Amarelo</td>\n",
       "      <td>5.0</td>\n",
       "      <td>Ciências da matéria</td>\n",
       "      <td>Ciências da vida</td>\n",
       "      <td>Gatos!</td>\n",
       "      <td>19</td>\n",
       "    </tr>\n",
       "    <tr>\n",
       "      <th>18</th>\n",
       "      <td>172</td>\n",
       "      <td>42</td>\n",
       "      <td>7</td>\n",
       "      <td>0</td>\n",
       "      <td>2.0</td>\n",
       "      <td>Vermelho</td>\n",
       "      <td>1.0</td>\n",
       "      <td>Ciências da matéria</td>\n",
       "      <td>Ciências da vida</td>\n",
       "      <td>Gatos!</td>\n",
       "      <td>42</td>\n",
       "    </tr>\n",
       "    <tr>\n",
       "      <th>19</th>\n",
       "      <td>170</td>\n",
       "      <td>36</td>\n",
       "      <td>10</td>\n",
       "      <td>0</td>\n",
       "      <td>10.0</td>\n",
       "      <td>Azul</td>\n",
       "      <td>5.0</td>\n",
       "      <td>Ciências da vida</td>\n",
       "      <td>Ciências da matéria</td>\n",
       "      <td>Gatos!</td>\n",
       "      <td>87</td>\n",
       "    </tr>\n",
       "    <tr>\n",
       "      <th>20</th>\n",
       "      <td>154</td>\n",
       "      <td>35</td>\n",
       "      <td>5</td>\n",
       "      <td>0</td>\n",
       "      <td>NaN</td>\n",
       "      <td>Verde</td>\n",
       "      <td>4.0</td>\n",
       "      <td>Ciências da vida</td>\n",
       "      <td>Ciências humanas</td>\n",
       "      <td>Gatos!</td>\n",
       "      <td>7</td>\n",
       "    </tr>\n",
       "    <tr>\n",
       "      <th>21</th>\n",
       "      <td>178</td>\n",
       "      <td>42</td>\n",
       "      <td>1</td>\n",
       "      <td>1</td>\n",
       "      <td>0.0</td>\n",
       "      <td>Azul</td>\n",
       "      <td>4.0</td>\n",
       "      <td>Ciências da matéria</td>\n",
       "      <td>Ciências humanas</td>\n",
       "      <td>Cachorros!</td>\n",
       "      <td>85</td>\n",
       "    </tr>\n",
       "    <tr>\n",
       "      <th>22</th>\n",
       "      <td>154</td>\n",
       "      <td>36</td>\n",
       "      <td>4</td>\n",
       "      <td>0</td>\n",
       "      <td>15.0</td>\n",
       "      <td>Roxo</td>\n",
       "      <td>3.0</td>\n",
       "      <td>Ciências da vida</td>\n",
       "      <td>Ciências humanas</td>\n",
       "      <td>Cachorros!</td>\n",
       "      <td>20</td>\n",
       "    </tr>\n",
       "    <tr>\n",
       "      <th>23</th>\n",
       "      <td>161</td>\n",
       "      <td>37</td>\n",
       "      <td>8</td>\n",
       "      <td>4</td>\n",
       "      <td>60.0</td>\n",
       "      <td>Cinza</td>\n",
       "      <td>5.0</td>\n",
       "      <td>Ciências da vida</td>\n",
       "      <td>NaN</td>\n",
       "      <td>Gatos!</td>\n",
       "      <td>29</td>\n",
       "    </tr>\n",
       "    <tr>\n",
       "      <th>24</th>\n",
       "      <td>178</td>\n",
       "      <td>41</td>\n",
       "      <td>10</td>\n",
       "      <td>1</td>\n",
       "      <td>6.0</td>\n",
       "      <td>Azul</td>\n",
       "      <td>5.0</td>\n",
       "      <td>Ciências da matéria</td>\n",
       "      <td>Ciências da vida</td>\n",
       "      <td>Cachorros!</td>\n",
       "      <td>18</td>\n",
       "    </tr>\n",
       "    <tr>\n",
       "      <th>25</th>\n",
       "      <td>154</td>\n",
       "      <td>34</td>\n",
       "      <td>3</td>\n",
       "      <td>3</td>\n",
       "      <td>2.0</td>\n",
       "      <td>Azul</td>\n",
       "      <td>3.0</td>\n",
       "      <td>Ciências da matéria</td>\n",
       "      <td>Ciências humanas</td>\n",
       "      <td>Cachorros!</td>\n",
       "      <td>65</td>\n",
       "    </tr>\n",
       "    <tr>\n",
       "      <th>26</th>\n",
       "      <td>163</td>\n",
       "      <td>37</td>\n",
       "      <td>10</td>\n",
       "      <td>2</td>\n",
       "      <td>10.0</td>\n",
       "      <td>Roxo</td>\n",
       "      <td>1.0</td>\n",
       "      <td>Ciências da matéria</td>\n",
       "      <td>Ciências humanas</td>\n",
       "      <td>Gatos!</td>\n",
       "      <td>27</td>\n",
       "    </tr>\n",
       "    <tr>\n",
       "      <th>27</th>\n",
       "      <td>154</td>\n",
       "      <td>34</td>\n",
       "      <td>8</td>\n",
       "      <td>2</td>\n",
       "      <td>NaN</td>\n",
       "      <td>NaN</td>\n",
       "      <td>NaN</td>\n",
       "      <td>Ciências humanas</td>\n",
       "      <td>Ciências da matéria</td>\n",
       "      <td>Gatos!</td>\n",
       "      <td>18</td>\n",
       "    </tr>\n",
       "    <tr>\n",
       "      <th>28</th>\n",
       "      <td>157</td>\n",
       "      <td>36</td>\n",
       "      <td>1</td>\n",
       "      <td>0</td>\n",
       "      <td>20.0</td>\n",
       "      <td>Roxo</td>\n",
       "      <td>3.0</td>\n",
       "      <td>Ciências humanas</td>\n",
       "      <td>Ciências da matéria</td>\n",
       "      <td>Gatos!</td>\n",
       "      <td>37</td>\n",
       "    </tr>\n",
       "    <tr>\n",
       "      <th>29</th>\n",
       "      <td>153</td>\n",
       "      <td>36</td>\n",
       "      <td>6</td>\n",
       "      <td>1</td>\n",
       "      <td>2.0</td>\n",
       "      <td>Vermelho</td>\n",
       "      <td>4.0</td>\n",
       "      <td>Ciências humanas</td>\n",
       "      <td>Ciências da matéria</td>\n",
       "      <td>Cachorros!</td>\n",
       "      <td>60</td>\n",
       "    </tr>\n",
       "    <tr>\n",
       "      <th>30</th>\n",
       "      <td>163</td>\n",
       "      <td>38</td>\n",
       "      <td>1</td>\n",
       "      <td>3</td>\n",
       "      <td>7.0</td>\n",
       "      <td>Rosa</td>\n",
       "      <td>3.0</td>\n",
       "      <td>Ciências da vida</td>\n",
       "      <td>Ciências da matéria</td>\n",
       "      <td>Cachorros!</td>\n",
       "      <td>13</td>\n",
       "    </tr>\n",
       "    <tr>\n",
       "      <th>31</th>\n",
       "      <td>172</td>\n",
       "      <td>41</td>\n",
       "      <td>2</td>\n",
       "      <td>0</td>\n",
       "      <td>3.0</td>\n",
       "      <td>Verde</td>\n",
       "      <td>1.0</td>\n",
       "      <td>Ciências da matéria</td>\n",
       "      <td>Ciências humanas</td>\n",
       "      <td>Gatos!</td>\n",
       "      <td>72</td>\n",
       "    </tr>\n",
       "    <tr>\n",
       "      <th>32</th>\n",
       "      <td>180</td>\n",
       "      <td>39</td>\n",
       "      <td>4</td>\n",
       "      <td>0</td>\n",
       "      <td>10.0</td>\n",
       "      <td>Vermelho</td>\n",
       "      <td>2.0</td>\n",
       "      <td>Ciências da matéria</td>\n",
       "      <td>Ciências da vida</td>\n",
       "      <td>Cachorros!</td>\n",
       "      <td>97</td>\n",
       "    </tr>\n",
       "    <tr>\n",
       "      <th>33</th>\n",
       "      <td>159</td>\n",
       "      <td>36</td>\n",
       "      <td>4</td>\n",
       "      <td>2</td>\n",
       "      <td>6.0</td>\n",
       "      <td>Roxo</td>\n",
       "      <td>5.0</td>\n",
       "      <td>Ciências da matéria</td>\n",
       "      <td>Ciências humanas</td>\n",
       "      <td>Cachorros!</td>\n",
       "      <td>77</td>\n",
       "    </tr>\n",
       "    <tr>\n",
       "      <th>34</th>\n",
       "      <td>180</td>\n",
       "      <td>41</td>\n",
       "      <td>8</td>\n",
       "      <td>0</td>\n",
       "      <td>8.0</td>\n",
       "      <td>Roxo</td>\n",
       "      <td>3.0</td>\n",
       "      <td>Ciências da matéria</td>\n",
       "      <td>Ciências humanas</td>\n",
       "      <td>Gatos!</td>\n",
       "      <td>85</td>\n",
       "    </tr>\n",
       "    <tr>\n",
       "      <th>35</th>\n",
       "      <td>165</td>\n",
       "      <td>36</td>\n",
       "      <td>2</td>\n",
       "      <td>0</td>\n",
       "      <td>15.0</td>\n",
       "      <td>Roxo</td>\n",
       "      <td>5.0</td>\n",
       "      <td>Ciências da vida</td>\n",
       "      <td>Ciências da matéria</td>\n",
       "      <td>Cachorros!</td>\n",
       "      <td>99</td>\n",
       "    </tr>\n",
       "  </tbody>\n",
       "</table>\n",
       "</div>"
      ],
      "text/plain": [
       "    Qual é a sua altura em centímetros?  \\\n",
       "0                                   181   \n",
       "1                                   163   \n",
       "2                                   178   \n",
       "3                                   153   \n",
       "4                                   195   \n",
       "5                                   184   \n",
       "6                                   164   \n",
       "7                                   158   \n",
       "8                                   169   \n",
       "9                                   173   \n",
       "10                                  156   \n",
       "11                                  170   \n",
       "12                                  162   \n",
       "13                                  184   \n",
       "14                                  178   \n",
       "15                                  163   \n",
       "16                                  193   \n",
       "17                                  180   \n",
       "18                                  172   \n",
       "19                                  170   \n",
       "20                                  154   \n",
       "21                                  178   \n",
       "22                                  154   \n",
       "23                                  161   \n",
       "24                                  178   \n",
       "25                                  154   \n",
       "26                                  163   \n",
       "27                                  154   \n",
       "28                                  157   \n",
       "29                                  153   \n",
       "30                                  163   \n",
       "31                                  172   \n",
       "32                                  180   \n",
       "33                                  159   \n",
       "34                                  180   \n",
       "35                                  165   \n",
       "\n",
       "    Qual é o número de sapato que você calça?  Qual o mês do seu aniversário?  \\\n",
       "0                                          42                               7   \n",
       "1                                          34                               6   \n",
       "2                                          40                              11   \n",
       "3                                          36                               3   \n",
       "4                                          43                               2   \n",
       "5                                          43                               5   \n",
       "6                                          39                              11   \n",
       "7                                          35                               9   \n",
       "8                                          41                               5   \n",
       "9                                          43                               4   \n",
       "10                                         34                               7   \n",
       "11                                         41                               6   \n",
       "12                                         36                              10   \n",
       "13                                         42                               5   \n",
       "14                                         41                               1   \n",
       "15                                         38                              11   \n",
       "16                                         44                               5   \n",
       "17                                         42                               5   \n",
       "18                                         42                               7   \n",
       "19                                         36                              10   \n",
       "20                                         35                               5   \n",
       "21                                         42                               1   \n",
       "22                                         36                               4   \n",
       "23                                         37                               8   \n",
       "24                                         41                              10   \n",
       "25                                         34                               3   \n",
       "26                                         37                              10   \n",
       "27                                         34                               8   \n",
       "28                                         36                               1   \n",
       "29                                         36                               6   \n",
       "30                                         38                               1   \n",
       "31                                         41                               2   \n",
       "32                                         39                               4   \n",
       "33                                         36                               4   \n",
       "34                                         41                               8   \n",
       "35                                         36                               2   \n",
       "\n",
       "    Quantos irmãos você tem?  Quantos livros você leu no ano passado?\\n  \\\n",
       "0                          1                                        3.0   \n",
       "1                          1                                        4.0   \n",
       "2                          1                                       16.0   \n",
       "3                          2                                       12.0   \n",
       "4                          0                                       20.0   \n",
       "5                          1                                        6.0   \n",
       "6                          2                                        3.0   \n",
       "7                          2                                        4.0   \n",
       "8                          1                                        6.0   \n",
       "9                          2                                        1.0   \n",
       "10                         2                                       12.0   \n",
       "11                         2                                        4.0   \n",
       "12                         3                                        7.0   \n",
       "13                         1                                       20.0   \n",
       "14                         1                                        4.0   \n",
       "15                         1                                      110.0   \n",
       "16                         2                                        0.0   \n",
       "17                         1                                       19.0   \n",
       "18                         0                                        2.0   \n",
       "19                         0                                       10.0   \n",
       "20                         0                                        NaN   \n",
       "21                         1                                        0.0   \n",
       "22                         0                                       15.0   \n",
       "23                         4                                       60.0   \n",
       "24                         1                                        6.0   \n",
       "25                         3                                        2.0   \n",
       "26                         2                                       10.0   \n",
       "27                         2                                        NaN   \n",
       "28                         0                                       20.0   \n",
       "29                         1                                        2.0   \n",
       "30                         3                                        7.0   \n",
       "31                         0                                        3.0   \n",
       "32                         0                                       10.0   \n",
       "33                         2                                        6.0   \n",
       "34                         0                                        8.0   \n",
       "35                         0                                       15.0   \n",
       "\n",
       "   Das cores abaixo, qual é a sua favorita (ou a cor que mais gosta se sua cor favorita não estiver na lista)?  \\\n",
       "0                                               Verde                                                            \n",
       "1                                                Azul                                                            \n",
       "2                                            Vermelho                                                            \n",
       "3                                               Preto                                                            \n",
       "4                                                Azul                                                            \n",
       "5                                                Roxo                                                            \n",
       "6                                                Azul                                                            \n",
       "7                                                Azul                                                            \n",
       "8                                                Azul                                                            \n",
       "9                                                Azul                                                            \n",
       "10                                           Vermelho                                                            \n",
       "11                                               Azul                                                            \n",
       "12                                               Rosa                                                            \n",
       "13                                           Vermelho                                                            \n",
       "14                                              Preto                                                            \n",
       "15                                               Azul                                                            \n",
       "16                                               Roxo                                                            \n",
       "17                                            Amarelo                                                            \n",
       "18                                           Vermelho                                                            \n",
       "19                                               Azul                                                            \n",
       "20                                              Verde                                                            \n",
       "21                                               Azul                                                            \n",
       "22                                               Roxo                                                            \n",
       "23                                              Cinza                                                            \n",
       "24                                               Azul                                                            \n",
       "25                                               Azul                                                            \n",
       "26                                               Roxo                                                            \n",
       "27                                                NaN                                                            \n",
       "28                                               Roxo                                                            \n",
       "29                                           Vermelho                                                            \n",
       "30                                               Rosa                                                            \n",
       "31                                              Verde                                                            \n",
       "32                                           Vermelho                                                            \n",
       "33                                               Roxo                                                            \n",
       "34                                               Roxo                                                            \n",
       "35                                               Roxo                                                            \n",
       "\n",
       "    Qual a sua opinião sobre azeitona?  \\\n",
       "0                                  5.0   \n",
       "1                                  1.0   \n",
       "2                                  4.0   \n",
       "3                                  1.0   \n",
       "4                                  3.0   \n",
       "5                                  4.0   \n",
       "6                                  5.0   \n",
       "7                                  5.0   \n",
       "8                                  2.0   \n",
       "9                                  4.0   \n",
       "10                                 1.0   \n",
       "11                                 3.0   \n",
       "12                                 5.0   \n",
       "13                                 5.0   \n",
       "14                                 3.0   \n",
       "15                                 4.0   \n",
       "16                                 5.0   \n",
       "17                                 5.0   \n",
       "18                                 1.0   \n",
       "19                                 5.0   \n",
       "20                                 4.0   \n",
       "21                                 4.0   \n",
       "22                                 3.0   \n",
       "23                                 5.0   \n",
       "24                                 5.0   \n",
       "25                                 3.0   \n",
       "26                                 1.0   \n",
       "27                                 NaN   \n",
       "28                                 3.0   \n",
       "29                                 4.0   \n",
       "30                                 3.0   \n",
       "31                                 1.0   \n",
       "32                                 2.0   \n",
       "33                                 5.0   \n",
       "34                                 3.0   \n",
       "35                                 5.0   \n",
       "\n",
       "   Qual destas linhas de estudo é a que você tem mais afinidade?  \\\n",
       "0                                    Ciências da vida              \n",
       "1                                    Ciências da vida              \n",
       "2                                 Ciências da matéria              \n",
       "3                                 Ciências da matéria              \n",
       "4                                    Ciências da vida              \n",
       "5                                 Ciências da matéria              \n",
       "6                                 Ciências da matéria              \n",
       "7                                 Ciências da matéria              \n",
       "8                                 Ciências da matéria              \n",
       "9                                    Ciências da vida              \n",
       "10                                   Ciências da vida              \n",
       "11                                Ciências da matéria              \n",
       "12                                   Ciências da vida              \n",
       "13                                Ciências da matéria              \n",
       "14                                Ciências da matéria              \n",
       "15                                Ciências da matéria              \n",
       "16                                Ciências da matéria              \n",
       "17                                Ciências da matéria              \n",
       "18                                Ciências da matéria              \n",
       "19                                   Ciências da vida              \n",
       "20                                   Ciências da vida              \n",
       "21                                Ciências da matéria              \n",
       "22                                   Ciências da vida              \n",
       "23                                   Ciências da vida              \n",
       "24                                Ciências da matéria              \n",
       "25                                Ciências da matéria              \n",
       "26                                Ciências da matéria              \n",
       "27                                   Ciências humanas              \n",
       "28                                   Ciências humanas              \n",
       "29                                   Ciências humanas              \n",
       "30                                   Ciências da vida              \n",
       "31                                Ciências da matéria              \n",
       "32                                Ciências da matéria              \n",
       "33                                Ciências da matéria              \n",
       "34                                Ciências da matéria              \n",
       "35                                   Ciências da vida              \n",
       "\n",
       "   Qual destas linhas de estudo é a que você tem menos afinidade?  \\\n",
       "0                                 Ciências da matéria               \n",
       "1                                    Ciências humanas               \n",
       "2                                    Ciências humanas               \n",
       "3                                    Ciências humanas               \n",
       "4                                    Ciências humanas               \n",
       "5                                    Ciências humanas               \n",
       "6                                    Ciências humanas               \n",
       "7                                    Ciências da vida               \n",
       "8                                    Ciências da vida               \n",
       "9                                    Ciências da vida               \n",
       "10                                Ciências da matéria               \n",
       "11                                   Ciências humanas               \n",
       "12                                   Ciências humanas               \n",
       "13                                   Ciências da vida               \n",
       "14                                   Ciências humanas               \n",
       "15                                   Ciências da vida               \n",
       "16                                   Ciências humanas               \n",
       "17                                   Ciências da vida               \n",
       "18                                   Ciências da vida               \n",
       "19                                Ciências da matéria               \n",
       "20                                   Ciências humanas               \n",
       "21                                   Ciências humanas               \n",
       "22                                   Ciências humanas               \n",
       "23                                                NaN               \n",
       "24                                   Ciências da vida               \n",
       "25                                   Ciências humanas               \n",
       "26                                   Ciências humanas               \n",
       "27                                Ciências da matéria               \n",
       "28                                Ciências da matéria               \n",
       "29                                Ciências da matéria               \n",
       "30                                Ciências da matéria               \n",
       "31                                   Ciências humanas               \n",
       "32                                   Ciências da vida               \n",
       "33                                   Ciências humanas               \n",
       "34                                   Ciências humanas               \n",
       "35                                Ciências da matéria               \n",
       "\n",
       "   Cachorros ou gatos?  Escolha um número aleatório entre 0 e 100\\n  \n",
       "0               Gatos!                                           77  \n",
       "1           Cachorros!                                            7  \n",
       "2           Cachorros!                                           69  \n",
       "3               Gatos!                                           13  \n",
       "4           Cachorros!                                           38  \n",
       "5               Gatos!                                           93  \n",
       "6           Cachorros!                                           89  \n",
       "7               Gatos!                                           77  \n",
       "8               Gatos!                                            7  \n",
       "9               Gatos!                                           71  \n",
       "10              Gatos!                                           77  \n",
       "11          Cachorros!                                           36  \n",
       "12          Cachorros!                                           35  \n",
       "13          Cachorros!                                            8  \n",
       "14              Gatos!                                           13  \n",
       "15          Cachorros!                                            7  \n",
       "16                 NaN                                            7  \n",
       "17              Gatos!                                           19  \n",
       "18              Gatos!                                           42  \n",
       "19              Gatos!                                           87  \n",
       "20              Gatos!                                            7  \n",
       "21          Cachorros!                                           85  \n",
       "22          Cachorros!                                           20  \n",
       "23              Gatos!                                           29  \n",
       "24          Cachorros!                                           18  \n",
       "25          Cachorros!                                           65  \n",
       "26              Gatos!                                           27  \n",
       "27              Gatos!                                           18  \n",
       "28              Gatos!                                           37  \n",
       "29          Cachorros!                                           60  \n",
       "30          Cachorros!                                           13  \n",
       "31              Gatos!                                           72  \n",
       "32          Cachorros!                                           97  \n",
       "33          Cachorros!                                           77  \n",
       "34              Gatos!                                           85  \n",
       "35          Cachorros!                                           99  "
      ]
     },
     "execution_count": 95,
     "metadata": {},
     "output_type": "execute_result"
    }
   ],
   "source": [
    "file = 'C:\\\\Users\\\\yasmin24023\\\\OneDrive - ILUM ESCOLA DE CIÊNCIA\\\\24.2 - Probabilidade e Estatística\\\\Censo turma 2024.xlsx'\n",
    "data=pd.read_excel(file)\n",
    "data = data.drop([\"Unnamed: 11\",\"Unnamed: 12\",\"Unnamed: 13\",\"Unnamed: 14\"],axis=1)\n",
    "data"
   ]
  },
  {
   "cell_type": "code",
   "execution_count": 96,
   "id": "c497abe3",
   "metadata": {},
   "outputs": [],
   "source": [
    "#transformar os dados em listas\n",
    "n_data = len(data)\n",
    "x_data = []\n",
    "for n in range(n_data):\n",
    "    x_data.append(n+1)\n",
    "\n",
    "altura = []\n",
    "for i in data[\"Qual é a sua altura em centímetros?\"].dropna(): #dropna remove os dados NaN para não dar problema no código (obgg Dreveck por lembrar todos)\n",
    "    altura.append(i)\n",
    "    \n",
    "sapato = []\n",
    "for i in data[\"Qual é o número de sapato que você calça?\"].dropna():\n",
    "    sapato.append(i)\n",
    "\n",
    "aniver = []\n",
    "for i in data[\"Qual o mês do seu aniversário?\"].dropna():\n",
    "    aniver.append(i)\n",
    "    \n",
    "irmaos = []\n",
    "for i in data[\"Quantos irmãos você tem?\"].dropna():\n",
    "    irmaos.append(i)\n",
    "    \n",
    "livros = []\n",
    "for i in data[\"Quantos livros você leu no ano passado?\\n\"].dropna():\n",
    "    livros.append(i)\n",
    "    \n",
    "cor = []\n",
    "for i in data[\"Das cores abaixo, qual é a sua favorita (ou a cor que mais gosta se sua cor favorita não estiver na lista)?\"].dropna():\n",
    "    cor.append(i)\n",
    "    \n",
    "azeitona = [] \n",
    "for i in data[\"Qual a sua opinião sobre azeitona?\"].dropna():\n",
    "    azeitona.append(i)\n",
    "    \n",
    "area_fav = []\n",
    "for i in data[\"Qual destas linhas de estudo é a que você tem mais afinidade?\"].dropna():\n",
    "    area_fav.append(i)\n",
    "    \n",
    "area_menos_fav = []\n",
    "for i in data[\"Qual destas linhas de estudo é a que você tem menos afinidade?\"].dropna():\n",
    "    area_menos_fav.append(i)\n",
    "    \n",
    "cao_gato = []\n",
    "for i in data[\"Cachorros ou gatos?\"].dropna():\n",
    "    cao_gato.append(i)\n",
    "    \n",
    "n_ate_100 = []\n",
    "for i in data[\"Escolha um número aleatório entre 0 e 100\\n\"].dropna():\n",
    "    n_ate_100.append(i)"
   ]
  },
  {
   "cell_type": "markdown",
   "id": "5bc3fb63",
   "metadata": {},
   "source": [
    "#### Definindo uma função para estaísticas quantitativas"
   ]
  },
  {
   "cell_type": "code",
   "execution_count": 97,
   "id": "fe88c4c1",
   "metadata": {},
   "outputs": [],
   "source": [
    "def stats_quant(altura, cm=None):\n",
    "    \"\"\"Recebe uma lista de dados e, se houver, sua unidade de medida.\n",
    "    Retorna um print dos valores de máximo, mínimo, média, mediana, moda, variância e desvio padrão desses dados.\"\"\"\n",
    "    h_min = min(altura)\n",
    "    h_max = max(altura)\n",
    "    h_mean = st.mean(altura)\n",
    "    h_median = st.median(altura)\n",
    "    h_mode = st.mode(altura) # 4 154 , 4 163, 4 178\n",
    "    h_var = st.pvariance(altura)\n",
    "    h_desv = st.pstdev(altura)\n",
    "\n",
    "    if cm!=None:\n",
    "        print(f\"Os dados obtidos são: {sorted(altura)}\")\n",
    "        print(f\"O menor dado obtido é: {h_min} {cm}.\")\n",
    "        print(f\"O maior dados obtido é: {h_max} {cm}.\")\n",
    "        print(f\" A média dos dados obtidos é: {h_mean} {cm}.\")\n",
    "        print(f\"A mediana dos dados obtidos é: {h_median} {cm}.\")\n",
    "        print(f\"A moda dos dados obtidos é: {h_mode} {cm}.\")\n",
    "        print(f\"A variância dos dados obtidos é {h_var} {cm}^2.\")\n",
    "        print(f\"O desvio padrão dos dados obtidos é {h_desv} {cm}\")\n",
    "    else:\n",
    "        print(f\"Os dados obtidos são: {sorted(altura)}\")\n",
    "        print(f\"O menor dado obtido é: {h_min}.\")\n",
    "        print(f\"O maior dados obtido é: {h_max}.\")\n",
    "        print(f\" A média dos dados obtidos é: {h_mean}.\")\n",
    "        print(f\"A mediana dos dados obtidos é: {h_median}.\")\n",
    "        print(f\"A moda dos dados obtidos é: {h_mode}.\")\n",
    "        print(f\"A variância dos dados obtidos é {h_var}.\")\n",
    "        print(f\"O desvio padrão dos dados obtidos é {h_desv}\")\n",
    "    "
   ]
  },
  {
   "cell_type": "markdown",
   "id": "7513e46d",
   "metadata": {},
   "source": [
    "## Estatísticas Descritivas"
   ]
  },
  {
   "cell_type": "markdown",
   "id": "7be571e5",
   "metadata": {},
   "source": [
    "### Uma turma da Xuxa - cheia de baixinhos"
   ]
  },
  {
   "cell_type": "code",
   "execution_count": 98,
   "id": "7ad819e6",
   "metadata": {},
   "outputs": [
    {
     "name": "stdout",
     "output_type": "stream",
     "text": [
      "Os dados obtidos são: [153, 153, 154, 154, 154, 154, 156, 157, 158, 159, 161, 162, 163, 163, 163, 163, 164, 165, 169, 170, 170, 172, 172, 173, 178, 178, 178, 178, 180, 180, 180, 181, 184, 184, 193, 195]\n",
      "O menor dado obtido é: 153 cm.\n",
      "O maior dados obtido é: 195 cm.\n",
      " A média dos dados obtidos é: 168.63888888888889 cm.\n",
      "A mediana dos dados obtidos é: 167.0 cm.\n",
      "A moda dos dados obtidos é: 163 cm.\n",
      "A variância dos dados obtidos é 133.56404320987653 cm^2.\n",
      "O desvio padrão dos dados obtidos é 11.556991096729137 cm\n"
     ]
    },
    {
     "data": {
      "image/png": "[encoded data removed]",
      "text/plain": [
       "<Figure size 640x480 with 1 Axes>"
      ]
     },
     "metadata": {},
     "output_type": "display_data"
    }
   ],
   "source": [
    "# Estatísticas descritivas das alturas \n",
    "\n",
    "stats_quant(altura,\"cm\")\n",
    "\n",
    "h_graf = sns.boxplot(y=altura)\n",
    "h_graf.set_xlabel(\"Variável aleatória\")\n",
    "h_graf.set_ylabel(\"Valor\");"
   ]
  },
  {
   "cell_type": "markdown",
   "id": "1be13e25",
   "metadata": {},
   "source": [
    "Aqui, podemos analisar os dados sobre a altura de cada respondente da turma 2024.\n",
    "\n",
    "Primeiramente, a menor altura da turma é de 153 cm e a maior é de 195 cm, sendo todas as alturas analisadas dentro deste espaço fechado. Percebemos, analisando o gráfico, que o intervalo entre cada quartil cresce com a altura, -sendo o intervalo de Q1 menor que o intervalo de Q2, que por sua vez é menor que o de Q3, que por fim é menor que o intervalode Q4 - ou seja, há maior concentração de pessoas com alturas menores e apenas 8 indivíduos com altura >= 180 cm. Assim, a média se encontra em ~169 cm, com a mediana em 167 cm (apenas 14 cm acima do mínimo, mas 28 cm do máximo) e a moda 163 cm e 170 cm - sendo a última não computada por padrão do _st.mode()_, ambas com 4 aparições. Essa concentração de dados no início do intervalo de dados gera um grande valor de desvio padrão, visto a \"distância\" das alturas máximas da média.\n",
    "\n",
    "Portanto, apesar do amplo espaço amostral, cerca de 70% dos dados de altura se encontram concentrados nos primeiros 20 cm do intervalo [153, 195] de 42 cm, de forma que a grande maioria dos estudantes da turma 2024 da ilum tem menos de 175 cm de altura."
   ]
  },
  {
   "cell_type": "markdown",
   "id": "1d8a5dad",
   "metadata": {},
   "source": [
    "### Mexe mexe mexe com os pés Chiquititas"
   ]
  },
  {
   "cell_type": "code",
   "execution_count": 99,
   "id": "e6f6fe1a",
   "metadata": {
    "scrolled": true
   },
   "outputs": [
    {
     "name": "stdout",
     "output_type": "stream",
     "text": [
      "Os dados obtidos são: [34, 34, 34, 34, 35, 35, 36, 36, 36, 36, 36, 36, 36, 36, 37, 37, 38, 38, 39, 39, 40, 41, 41, 41, 41, 41, 41, 42, 42, 42, 42, 42, 43, 43, 43, 44]\n",
      "O menor dado obtido é: 34.\n",
      "O maior dados obtido é: 44.\n",
      " A média dos dados obtidos é: 38.638888888888886.\n",
      "A mediana dos dados obtidos é: 38.5.\n",
      "A moda dos dados obtidos é: 36.\n",
      "A variância dos dados obtidos é 9.786265432098766.\n",
      "O desvio padrão dos dados obtidos é 3.128300725969095\n"
     ]
    },
    {
     "data": {
      "image/png": "[encoded data removed]",
      "text/plain": [
       "<Figure size 640x480 with 1 Axes>"
      ]
     },
     "metadata": {},
     "output_type": "display_data"
    }
   ],
   "source": [
    "#Estatísticas descritivas do número do calçado\n",
    "\n",
    "stats_quant(sapato)\n",
    "\n",
    "h_graf = sns.boxplot(y=sapato)\n",
    "h_graf.set_xlabel(\"Variável aleatória\")\n",
    "h_graf.set_ylabel(\"Valor\");"
   ]
  },
  {
   "cell_type": "markdown",
   "id": "ccc54d58",
   "metadata": {},
   "source": [
    "Diferente dos dados das alturas, pelo boxplot, percebemos que a variação do tamanho do calçado dos estudantes da turma 2024 da ilum é mais bem distribuída dentro do intervalo.\n",
    "\n",
    "Os dados se encontram entre numeração 34 e 44, com média e mediana muito próximas, em 38,6 e 38.5. Já a moda está em 36, com 2 ou mais vezes o número de aparição das demais. Assim, o primeiro quartil apresenta o menor intervalo, com 25% dos dados entre [34,36], indicando uma concentração de dados levemente maior nas numerações iniciais.\n",
    "\n",
    "Considerando o tamanho do intervalo, o desvio padrão de ~3 é alto, o que se dá devido, justamente, a essa boa distribuição, com dados espalados uniformemente em todo o intervalo."
   ]
  },
  {
   "cell_type": "markdown",
   "id": "35dee3a4",
   "metadata": {},
   "source": [
    "##### Quando as Chiquititas encontram a Xuxa"
   ]
  },
  {
   "cell_type": "code",
   "execution_count": 103,
   "id": "d223993f",
   "metadata": {},
   "outputs": [
    {
     "data": {
      "image/png": "[encoded data removed]",
      "text/plain": [
       "<Figure size 640x480 with 1 Axes>"
      ]
     },
     "metadata": {},
     "output_type": "display_data"
    }
   ],
   "source": [
    "s_mean = st.mean(sapato)\n",
    "h_mean = st.mean(altura)\n",
    "\n",
    "plt.scatter(sapato, altura, color = \"red\")\n",
    "plt.plot([s_mean,s_mean], [min(altura),max(altura)], color = \"blue\")\n",
    "plt.plot([min(sapato),max(sapato)], [h_mean,h_mean], color = \"blue\")\n",
    "plt.show()"
   ]
  },
  {
   "cell_type": "markdown",
   "id": "366827a6",
   "metadata": {},
   "source": [
    "Fazendo uma plotagem em scatter do cruzamento de informações de altura e núemero de calçado, obtem-se o gráfico acima para melhor análise da dispersão dos dados. Além disso, definiu-se as médias de altura e número de calçado como eixos azuis que cruzam todo o espaço amostral estudado.\n",
    "\n",
    "Através deste, percebe-se que há duas principais áreas de concentração de dados. Nota-se, em particular, que tais concentrações se dividem entre aqueles abaixo e acima de ambas as médias, com dois casos particulares em que um indivíduo que mede 170 cm (acima da média) calça 36 (abaixo da média) e outro que mede 164 cm (abaixo da média) calça 39 (acima da média). Em outras palavra, a grande maioria dos estudantes da ilum ou são baixinhos com pézinhos ou são altões com pézões. Considerando que ambos os dados estão relacionados com o crescimento e desenvolvimento corporal, tais característica no cruzamento de dados são esperadas.\n",
    "\n",
    "Além disso, é interessante observar que a concentração de estudantes com dados próximos à média dos dados é mínima, sendo que nenhum destes se aproximam de ambas as médias simultaneamente. Assim, apesar de haver muitos baixinhos com pézinhos altões com pézões, não há dados de estudantes com altura ok e pé ok."
   ]
  },
  {
   "cell_type": "markdown",
   "id": "fe6ef281",
   "metadata": {},
   "source": [
    "## É pique é pique é pique"
   ]
  },
  {
   "cell_type": "code",
   "execution_count": 104,
   "id": "df087765",
   "metadata": {},
   "outputs": [
    {
     "name": "stdout",
     "output_type": "stream",
     "text": [
      "ocorrências de cada mês: [4, 3, 2, 4, 6, 3, 3, 3, 1, 4, 3, 0]\n"
     ]
    },
    {
     "data": {
      "text/plain": [
       "([<matplotlib.patches.Wedge at 0x20d7af55f50>,\n",
       "  <matplotlib.patches.Wedge at 0x20d7b27fe50>,\n",
       "  <matplotlib.patches.Wedge at 0x20d7b198850>,\n",
       "  <matplotlib.patches.Wedge at 0x20d7b1b84d0>,\n",
       "  <matplotlib.patches.Wedge at 0x20d7afcc950>,\n",
       "  <matplotlib.patches.Wedge at 0x20d7b1a6e50>,\n",
       "  <matplotlib.patches.Wedge at 0x20d7b024b50>,\n",
       "  <matplotlib.patches.Wedge at 0x20d7b20ba10>,\n",
       "  <matplotlib.patches.Wedge at 0x20d7afcc450>,\n",
       "  <matplotlib.patches.Wedge at 0x20d7b1a4050>,\n",
       "  <matplotlib.patches.Wedge at 0x20d799f8090>,\n",
       "  <matplotlib.patches.Wedge at 0x20d797de7d0>],\n",
       " [Text(1.0336618818860421, 0.3762221603465248, 'janeiro (4 votos)'),\n",
       "  Text(0.630934068268928, 0.9010672569223788, 'fevereiro (3 votos)'),\n",
       "  Text(0.1910129714861031, 1.0832885325360226, 'março (2 votos)'),\n",
       "  Text(-0.37622218454112705, 1.0336618730799265, 'abril (4 votos)'),\n",
       "  Text(-1.0336618994982714, 0.3762221119573195, 'maio (6 votos)'),\n",
       "  Text(-0.9969385343054351, -0.4648801553270809, 'junho (3 votos)'),\n",
       "  Text(-0.6309340049959224, -0.9010673012266095, 'julho (3 votos)'),\n",
       "  Text(-0.09587120872503435, -1.0958141773757086, 'agosto (3 votos)'),\n",
       "  Text(0.28470106360044584, -1.0625183783750638, 'setembro (1 votos)'),\n",
       "  Text(0.7070664637945089, -0.8426488092777018, 'outubro (4 votos)'),\n",
       "  Text(1.0625184433481518, -0.28470082111757333, 'novembro (3 votos)'),\n",
       "  Text(1.099999999999991, 1.4161046983632366e-07, 'dezembro (0 votos)')],\n",
       " [Text(0.563815571937841, 0.20521208746174077, '11.1%'),\n",
       "  Text(0.34414585541941517, 0.4914912310485702, '8.3%'),\n",
       "  Text(0.1041888935378744, 0.5908846541105577, '5.6%'),\n",
       "  Text(-0.20521210065879655, 0.5638155671345053, '11.1%'),\n",
       "  Text(-0.5638155815445115, 0.20521206106762882, '16.7%'),\n",
       "  Text(-0.5437846550756918, -0.25357099381477133, '8.3%'),\n",
       "  Text(-0.3441458209068668, -0.4914912552145142, '8.3%'),\n",
       "  Text(-0.052293386577291455, -0.5977168240231138, '8.3%'),\n",
       "  Text(0.15529148923660682, -0.5795554791136711, '2.8%'),\n",
       "  Text(0.3856726166151866, -0.45962662324238274, '11.1%'),\n",
       "  Text(0.5795555145535373, -0.1552913569732218, '8.3%'),\n",
       "  Text(0.599999999999995, 7.724207445617654e-08, '0.0%')])"
      ]
     },
     "execution_count": 104,
     "metadata": {},
     "output_type": "execute_result"
    },
    {
     "data": {
      "image/png": "[encoded data removed]",
      "text/plain": [
       "<Figure size 640x480 with 1 Axes>"
      ]
     },
     "metadata": {},
     "output_type": "display_data"
    }
   ],
   "source": [
    "jan = 0\n",
    "fev = 0\n",
    "mar = 0\n",
    "abr = 0\n",
    "mai = 0\n",
    "jun = 0\n",
    "jul = 0\n",
    "ago = 0\n",
    "setmbr = 0\n",
    "out = 0\n",
    "nov = 0\n",
    "dez = 0\n",
    "\n",
    "for i in aniver:\n",
    "    if i == 1:\n",
    "        jan +=1\n",
    "    elif i == 2:\n",
    "        fev +=1\n",
    "    elif i == 3:\n",
    "        mar +=1\n",
    "    elif i == 4:\n",
    "        abr +=1\n",
    "    elif i == 5:\n",
    "        mai+=1\n",
    "    elif i == 6:\n",
    "        jun +=1\n",
    "    elif i == 7:\n",
    "        jul +=1\n",
    "    elif i == 8:\n",
    "        ago +=1\n",
    "    elif i == 9:\n",
    "        setmbr +=1\n",
    "    elif i == 10:\n",
    "        out +=1\n",
    "    elif i == 11:\n",
    "        nov +=1\n",
    "    elif i == 12:\n",
    "        dez +=1\n",
    "\n",
    "mes=[jan,fev,mar,abr,mai,jun,jul,ago,setmbr,out,nov,dez]\n",
    "print(f\"ocorrências de cada mês: {mes}\")\n",
    "\n",
    "plt.pie(mes, labels = [f\"janeiro ({mes[0]} votos)\",f\"fevereiro ({mes[1]} votos)\",f\"março ({mes[2]} votos)\",f\"abril ({mes[3]} votos)\",f\"maio ({mes[4]} votos)\",f\"junho ({mes[5]} votos)\",f\"julho ({mes[6]} votos)\",f\"agosto ({mes[7]} votos)\",f\"setembro ({mes[8]} votos)\",f\"outubro ({mes[9]} votos)\",f\"novembro ({mes[10]} votos)\",f\"dezembro ({mes[11]} votos)\"], colors = [\"yellow\",\"gold\",\"goldenrod\",\"orange\",\"darkorange\",\"navy\",\"royalblue\",\"darkcyan\",\"springgreen\",\"lime\",\"darkgreen\",\"greenyellow\"],autopct=\"%1.1f%%\")"
   ]
  },
  {
   "cell_type": "markdown",
   "id": "2643aad1",
   "metadata": {},
   "source": [
    "Acerca das informações de mês de aniversário dos estudantes, escolheu-se não fazer uma profunda análise quantitativa, visto que, apesar de representados por números, meses são dados mais qualitativos ordinais.\n",
    "\n",
    "Assim, os dados se distribuem em um intervalo de 11 meses - o que é muito interessante, considerando que, em 36 respondentes, nenhum foi nascido no mês de dezembro. Fora isso, os dados foram bem distrubuídos, com apenas um pico de discrepância em maio, com 6 aniversariantes, e setembro e março um pouco abaixo do padrão (1 e 2 aniversariantes). \n",
    "\n",
    "Podemos tentar associar esses meses de destaque ao 9º mês que os precedem: para a ausência de aniversariantes em dezembro, pode-se associar à época de quaresma e páscoa em março/abril; para o baixo número de aniversariantes em setembro, à época de fim/início de ano, na época de natal e ano novo; já para o pico em maio, cujo 9º mês anterior é agosto, não está clara uma relação, mas pode estar associado ao fim de férias em muitas empresas."
   ]
  },
  {
   "cell_type": "markdown",
   "id": "d5edcccb",
   "metadata": {},
   "source": [
    "### Ohana quer dizer família"
   ]
  },
  {
   "cell_type": "code",
   "execution_count": 105,
   "id": "91ddce40",
   "metadata": {
    "scrolled": false
   },
   "outputs": [
    {
     "name": "stdout",
     "output_type": "stream",
     "text": [
      "Os dados obtidos são: [0, 0, 0, 0, 0, 0, 0, 0, 0, 0, 1, 1, 1, 1, 1, 1, 1, 1, 1, 1, 1, 1, 2, 2, 2, 2, 2, 2, 2, 2, 2, 2, 3, 3, 3, 4]\n",
      "O menor dado obtido é: 0.\n",
      "O maior dados obtido é: 4.\n",
      " A média dos dados obtidos é: 1.25.\n",
      "A mediana dos dados obtidos é: 1.0.\n",
      "A moda dos dados obtidos é: 1.\n",
      "A variância dos dados obtidos é 1.0763888888888888.\n",
      "O desvio padrão dos dados obtidos é 1.0374916331657278\n"
     ]
    },
    {
     "data": {
      "text/plain": [
       "(array([10.,  0., 12.,  0.,  0., 10.,  0.,  3.,  0.,  1.]),\n",
       " array([0. , 0.4, 0.8, 1.2, 1.6, 2. , 2.4, 2.8, 3.2, 3.6, 4. ]),\n",
       " <BarContainer object of 10 artists>)"
      ]
     },
     "execution_count": 105,
     "metadata": {},
     "output_type": "execute_result"
    },
    {
     "data": {
      "image/png": "[encoded data removed]",
      "text/plain": [
       "<Figure size 640x480 with 1 Axes>"
      ]
     },
     "metadata": {},
     "output_type": "display_data"
    }
   ],
   "source": [
    "stats_quant(irmaos)\n",
    "plt.hist(irmaos)"
   ]
  },
  {
   "cell_type": "markdown",
   "id": "06239c0d",
   "metadata": {},
   "source": [
    "Para número de irmãos, foi feita a plotagem de um histograma, visto o baixo número de respostas possíveis.\n",
    " \n",
    "Através do histogramas, percebemos a concentração de dados em 0, 1 e 2 irmão, com a moda em 1, e a distribuição em 0 e 2 equivalentes. Além disso, há 3 indivíduos com 3 irmãos e 1 com 4, subindo um pouco a média (em comparação com a moda) para 1,25. O desvio padrão igual a 1 indica, justamente, essa distribuição concentrada em 1 com margem em 0 e 2.\n",
    "\n",
    "Segundo o IBGE, a taxa de fecundidade no começo dos anos 2000 - época do nascimento da grande maioria dos estudantes da turma 2024 - está entre 2 e 2.5 filhos por mulher. Assim, adicionando o respondente ao dados, temos a taxa de, em média, 2,25 filhos por família, dado condizente com a realidade.\n",
    "\n",
    "fonte: https://brasilemsintese.ibge.gov.br/populacao/taxas-de-fecundidade-total.html"
   ]
  },
  {
   "cell_type": "markdown",
   "id": "8146fe38",
   "metadata": {},
   "source": [
    "### 'Cê senta e sento em dez livros"
   ]
  },
  {
   "cell_type": "code",
   "execution_count": 107,
   "id": "fb3b7ad8",
   "metadata": {
    "scrolled": true
   },
   "outputs": [
    {
     "name": "stdout",
     "output_type": "stream",
     "text": [
      "Os dados obtidos são: [0.0, 0.0, 1.0, 2.0, 2.0, 2.0, 3.0, 3.0, 3.0, 4.0, 4.0, 4.0, 4.0, 6.0, 6.0, 6.0, 6.0, 7.0, 7.0, 8.0, 10.0, 10.0, 10.0, 12.0, 12.0, 15.0, 15.0, 16.0, 19.0, 20.0, 20.0, 20.0, 60.0, 110.0]\n",
      "O menor dado obtido é: 0.0.\n",
      "O maior dados obtido é: 110.0.\n",
      " A média dos dados obtidos é: 12.558823529411764.\n",
      "A mediana dos dados obtidos é: 6.5.\n",
      "A moda dos dados obtidos é: 4.0.\n",
      "A variância dos dados obtidos é 400.0700692041523.\n",
      "O desvio padrão dos dados obtidos é 20.001751653396564\n"
     ]
    },
    {
     "data": {
      "image/png": "[encoded data removed]",
      "text/plain": [
       "<Figure size 640x480 with 1 Axes>"
      ]
     },
     "metadata": {},
     "output_type": "display_data"
    }
   ],
   "source": [
    "stats_quant(livros)\n",
    "\n",
    "l_graf = sns.boxplot(y=livros)\n",
    "l_graf.set_xlabel(\"Variável aleatória\")\n",
    "l_graf.set_ylabel(\"Valor\")\n",
    "plt.show()"
   ]
  },
  {
   "cell_type": "markdown",
   "id": "68dfb0d2",
   "metadata": {},
   "source": [
    "Para os dados de livros lidos no último ano, temos um comportamento particular.\n",
    "A grande maioria dos dados se encontra no intervalo de 0 e 20 livros, entretanto, houve uma única resposta em 60 (obrigado Gabriel Viégas) e uma única reposta em 110 livros (obrigado Júlia Guedes). Desse modo, as estatísticas de média são distorcidas (considerando o pequeno número de dados e a dupla incidência de valores anômalos), mas, principalmente, o desvio padrão aumenta em grandes proporções. Assim, retiramos os dados anômalos, visto que a ilum reúne um conjunto de pessoas extraordinárias e singulares, para uma análise um pouco mais próxima da realidade."
   ]
  },
  {
   "cell_type": "code",
   "execution_count": 108,
   "id": "0c8ee30f",
   "metadata": {},
   "outputs": [
    {
     "name": "stdout",
     "output_type": "stream",
     "text": [
      "Os dados obtidos são: [0.0, 0.0, 1.0, 2.0, 2.0, 2.0, 3.0, 3.0, 3.0, 4.0, 4.0, 4.0, 4.0, 6.0, 6.0, 6.0, 6.0, 7.0, 7.0, 8.0, 10.0, 10.0, 10.0, 12.0, 12.0, 15.0, 15.0, 16.0, 19.0, 20.0, 20.0, 20.0]\n",
      "O menor dado obtido é: 0.0.\n",
      "O maior dados obtido é: 20.0.\n",
      " A média dos dados obtidos é: 8.03125.\n",
      "A mediana dos dados obtidos é: 6.0.\n",
      "A moda dos dados obtidos é: 4.0.\n",
      "A variância dos dados obtidos é 37.5302734375.\n",
      "O desvio padrão dos dados obtidos é 6.126195674111299\n"
     ]
    },
    {
     "data": {
      "image/png": "[encoded data removed]",
      "text/plain": [
       "<Figure size 640x480 with 1 Axes>"
      ]
     },
     "metadata": {},
     "output_type": "display_data"
    }
   ],
   "source": [
    "livros_3 = livros.copy()\n",
    "livros_3.remove(110)\n",
    "livros_3.remove(60)\n",
    "\n",
    "stats_quant(livros_3)\n",
    "\n",
    "l3_graf = sns.boxplot(y=livros_3)\n",
    "l3_graf.set_xlabel(\"Variável aleatória\")\n",
    "l3_graf.set_ylabel(\"Valor\");"
   ]
  },
  {
   "cell_type": "markdown",
   "id": "51f30d51",
   "metadata": {},
   "source": [
    "Com a correção dos dados, percebemos a concentração de respondentes entre 0 e 6, sendo apenas estes 50% dos casos. A média de leitura é foi 8 livros em um ano, com a mediana em 6 e moda em 4 e em 6. O desvio padrão foi de 6.12, que indica uma grande dispersão de dados. Com essa correção, percebemos uma grande queda na média (de 12 para 8), mas principalmente no desvio padrão (de 20 para 6), visto que os dados anômalos extremamente grande são de grande peso nessas estatísticas.\n",
    "\n",
    "Segundo a Unisinos, o brasileiro lê, em média, 4 livros por ano, mas apenas metade da população têm o hábito da leitura. Comparando com os dados obtidos, vemos que a turma da ilum está muito acima da média. Entretanto, isso pode estar relacionado aos índices de analfabetismo e de acesso à literatura, sendo que estudantes de uma graduação em ciência e tecnologia são, além de alfabetizados, sedentos por conhecimento.\n",
    "\n",
    "fonte: https://www.unisinos.br/noticias/por-que-o-brasileiro-le-tao-pouco/#:~:text=Em%20uma%20compara%C3%A7%C3%A3o%20m%C3%A9dia%20com,alguns%20deles%20podem%20ser%20analisados."
   ]
  },
  {
   "cell_type": "markdown",
   "id": "a5ff208a",
   "metadata": {},
   "source": [
    "### Cientista Interdisciplinar? ( ͠❛ ͜ʖ ͡❛)"
   ]
  },
  {
   "cell_type": "code",
   "execution_count": 109,
   "id": "94cb11d6",
   "metadata": {},
   "outputs": [
    {
     "data": {
      "text/plain": [
       "(array([[12.,  0.,  0.,  0.,  0., 21.,  0.,  0.,  0.,  3.],\n",
       "        [ 9.,  0.,  0.,  0.,  0.,  8.,  0.,  0.,  0., 18.]]),\n",
       " array([0. , 0.2, 0.4, 0.6, 0.8, 1. , 1.2, 1.4, 1.6, 1.8, 2. ]),\n",
       " <a list of 2 BarContainer objects>)"
      ]
     },
     "execution_count": 109,
     "metadata": {},
     "output_type": "execute_result"
    },
    {
     "data": {
      "image/png": "[encoded data removed]",
      "text/plain": [
       "<Figure size 640x480 with 1 Axes>"
      ]
     },
     "metadata": {},
     "output_type": "display_data"
    }
   ],
   "source": [
    "plt.hist([area_fav,area_menos_fav], color=[\"greenyellow\",\"red\"])"
   ]
  },
  {
   "cell_type": "code",
   "execution_count": 110,
   "id": "22067376",
   "metadata": {},
   "outputs": [
    {
     "name": "stdout",
     "output_type": "stream",
     "text": [
      "Relação entre área de maior afinidade (colunas) e menor afinidade (linhas)\n"
     ]
    },
    {
     "data": {
      "text/html": [
       "<div>\n",
       "<style scoped>\n",
       "    .dataframe tbody tr th:only-of-type {\n",
       "        vertical-align: middle;\n",
       "    }\n",
       "\n",
       "    .dataframe tbody tr th {\n",
       "        vertical-align: top;\n",
       "    }\n",
       "\n",
       "    .dataframe thead th {\n",
       "        text-align: right;\n",
       "    }\n",
       "</style>\n",
       "<table border=\"1\" class=\"dataframe\">\n",
       "  <thead>\n",
       "    <tr style=\"text-align: right;\">\n",
       "      <th></th>\n",
       "      <th>Vida</th>\n",
       "      <th>Matéria</th>\n",
       "      <th>Humanas</th>\n",
       "    </tr>\n",
       "  </thead>\n",
       "  <tbody>\n",
       "    <tr>\n",
       "      <th>Vida</th>\n",
       "      <td>2</td>\n",
       "      <td>7</td>\n",
       "      <td>0</td>\n",
       "    </tr>\n",
       "    <tr>\n",
       "      <th>Matéria</th>\n",
       "      <td>3</td>\n",
       "      <td>2</td>\n",
       "      <td>3</td>\n",
       "    </tr>\n",
       "    <tr>\n",
       "      <th>Humanas</th>\n",
       "      <td>6</td>\n",
       "      <td>12</td>\n",
       "      <td>0</td>\n",
       "    </tr>\n",
       "  </tbody>\n",
       "</table>\n",
       "</div>"
      ],
      "text/plain": [
       "         Vida  Matéria  Humanas\n",
       "Vida        2        7        0\n",
       "Matéria     3        2        3\n",
       "Humanas     6       12        0"
      ]
     },
     "execution_count": 110,
     "metadata": {},
     "output_type": "execute_result"
    }
   ],
   "source": [
    "dic_areas={\n",
    "    \"Vida\" : {\"Vida\":0,\n",
    "              \"Matéria\": 0,\n",
    "              \"Humanas\":0,},\n",
    "    \"Matéria\": {\"Vida\":0,\n",
    "              \"Matéria\": 0,\n",
    "              \"Humanas\": 0,},\n",
    "    \"Humanas\":{\"Vida\":0,\n",
    "              \"Matéria\": 0,\n",
    "              \"Humanas\": 0,},\n",
    "}\n",
    "\n",
    "\n",
    "for n in range(len(area_menos_fav)): #usei o menos fav pq teve um NaN retirado\n",
    "    if area_fav[n] == \"Ciências da vida\": #Área Favorita\n",
    "        if area_menos_fav[n] == \"Ciências humanas\": #Área menos favorita\n",
    "            dic_areas[\"Vida\"][\"Humanas\"]+=1\n",
    "        elif area_menos_fav[n] == \"Ciências da matéria\":#Área menos favorita\n",
    "            dic_areas[\"Vida\"][\"Matéria\"]+=1\n",
    "        else: #Área menos favorita (???)\n",
    "            dic_areas[\"Vida\"][\"Vida\"]+=1\n",
    "    elif area_fav[n] == \"Ciências da matéria\":\n",
    "        if area_menos_fav[n] == \"Ciências humanas\":\n",
    "            dic_areas[\"Matéria\"][\"Humanas\"]+=1\n",
    "        elif area_menos_fav[n] == \"Ciências da vida\":\n",
    "            dic_areas[\"Matéria\"][\"Vida\"]+=1\n",
    "        else:\n",
    "            dic_areas[\"Matéria\"][\"Matéria\"]+=1\n",
    "    elif area_fav[n] == \"Ciências humanas\":\n",
    "        if area_menos_fav[n] == \"Ciências da vida\":\n",
    "            dic_areas[\"Humanas\"][\"Vida\"]+=1\n",
    "        elif area_menos_fav[n] == \"Ciências da matéria\":\n",
    "            dic_areas[\"Humanas\"][\"Matéria\"]+=1\n",
    "        else:\n",
    "            dic_areas[\"Matéria\"][\"Humanas\"]+=1\n",
    "\n",
    "df_areas = pd.DataFrame.from_dict(dic_areas)\n",
    "\n",
    "print(\"Relação entre área de maior afinidade (colunas) e menor afinidade (linhas)\")\n",
    "\n",
    "df_areas\n"
   ]
  },
  {
   "cell_type": "code",
   "execution_count": 111,
   "id": "0694c97b",
   "metadata": {
    "scrolled": false
   },
   "outputs": [
    {
     "data": {
      "text/plain": [
       "([<matplotlib.patches.Wedge at 0x20d7c5be410>,\n",
       "  <matplotlib.patches.Wedge at 0x20d7c5bed10>,\n",
       "  <matplotlib.patches.Wedge at 0x20d7c5cc610>,\n",
       "  <matplotlib.patches.Wedge at 0x20d7c5bfe10>,\n",
       "  <matplotlib.patches.Wedge at 0x20d7c5cf190>,\n",
       "  <matplotlib.patches.Wedge at 0x20d7c5dc890>,\n",
       "  <matplotlib.patches.Wedge at 0x20d7c5dddd0>,\n",
       "  <matplotlib.patches.Wedge at 0x20d7c5df4d0>,\n",
       "  <matplotlib.patches.Wedge at 0x20d7c5cef90>],\n",
       " [Text(1.0823225472614626, 0.1964125853642255, 'Vida>Vida'),\n",
       "  Text(0.8899186877588753, 0.6465637858537406, 'Vida>Matéria'),\n",
       "  Text(0.14765655813730946, 1.0900447425858462, 'Vida>Humanas'),\n",
       "  Text(-0.944293704278666, 0.5641891527313118, 'Matéria>Vida'),\n",
       "  Text(-1.0603591274882942, -0.2926405999724981, 'Matéria>Matéria'),\n",
       "  Text(-0.0493512075602447, -1.0988923779480617, 'Matéria>Humanas'),\n",
       "  Text(0.9442937438960641, -0.5641890864229427, 'Humanas>Vida'),\n",
       "  Text(1.0603591857111276, -0.29264038900677125, 'Humanas>Matéria'),\n",
       "  Text(1.0999999999999892, 1.5448414929211732e-07, 'Humanas>Humanas')],\n",
       " [Text(0.5903577530517068, 0.10713413747139572, '5.7%'),\n",
       "  Text(0.4854101933230228, 0.35267115592022213, '8.6%'),\n",
       "  Text(0.08053994080216878, 0.5945698595922797, '17.1%'),\n",
       "  Text(-0.5150692932429087, 0.3077395378534427, '20.0%'),\n",
       "  Text(-0.5783777059027059, -0.1596221454395444, '5.7%'),\n",
       "  Text(-0.026918840487406195, -0.5993958425171245, '34.3%'),\n",
       "  Text(0.5150693148523986, -0.3077395016852415, '0.0%'),\n",
       "  Text(0.5783777376606151, -0.15962203036732978, '8.6%'),\n",
       "  Text(0.5999999999999941, 8.426408143206398e-08, '0.0%')])"
      ]
     },
     "execution_count": 111,
     "metadata": {},
     "output_type": "execute_result"
    },
    {
     "data": {
      "image/png": "[encoded data removed]",
      "text/plain": [
       "<Figure size 640x480 with 1 Axes>"
      ]
     },
     "metadata": {},
     "output_type": "display_data"
    }
   ],
   "source": [
    "plt.pie([dic_areas[\"Vida\"][\"Vida\"], dic_areas[\"Vida\"][\"Matéria\"], dic_areas[\"Vida\"][\"Humanas\"],dic_areas[\"Matéria\"][\"Vida\"], dic_areas[\"Matéria\"][\"Matéria\"], dic_areas[\"Matéria\"][\"Humanas\"],dic_areas[\"Humanas\"][\"Vida\"], dic_areas[\"Humanas\"][\"Matéria\"], dic_areas[\"Humanas\"][\"Humanas\"]], colors=[\"lime\",\"forestgreen\",\"darkgreen\",\"cyan\",\"blue\",\"darkslateblue\",\"tomato\",\"red\",\"darkred\"],labels=[\"Vida>Vida\",\"Vida>Matéria\",\"Vida>Humanas\",\"Matéria>Vida\",\"Matéria>Matéria\",\"Matéria>Humanas\",\"Humanas>Vida\",\"Humanas>Matéria\", \"Humanas>Humanas\"],autopct=\"%1.1f%%\")"
   ]
  },
  {
   "cell_type": "markdown",
   "id": "e75361e4",
   "metadata": {},
   "source": [
    "** Queria ter plotado um histograma comparativo com a relação maior-menor, mas não consegui :(( aí foi pizza memo\n",
    "\n",
    "Indo para as áreas de interesse , podemos perceber uma grande maioria com interesse em materiais, um interesse muito presente em vida (mais de 30%) e pouco interesse da turma em humanas,com apenas 3 respondentes desta como favorita. Além disso, a área de humanas é a que apresenta a maior falta de afinidade, com mais de 50% da turma não gostando tanto assim dessa área. O desgosto por matéria e vida é equilibrado.\n",
    "\n",
    "Indo além dessa análise, é possível buscar relação entre a área de maior e menor interesse de cada respondente. Sendo assim, foi feito um dataframe e um gráfico de pizza que indica essa relação. Assim, percebe-se que, por padrão, quem gosta de matéria costuma não gostar de humanas, e quem gosta de humanas costuma não gostar de matéria (sendo o último por hunanimidade).\n",
    "\n",
    "Por fim, o grupo de humanas foi o único normal o suficiente pra não escolher sua própria área de maior afinidade como sendo de menor afinidade, como feito por 2 respondentes de matéria e 2 de vida KKKKKKKKKKKKKKK isso pode significar que apenas os humaners realmente entendem e gostam do que fazem.\n",
    "\n",
    "Importante ressaltar que aqui houve um respondente que não preencheu o campo de menor afinidade, o qual não foi contabilizado, tendo como resposta \"Ciência da Vida\" para maior afinidade"
   ]
  },
  {
   "cell_type": "markdown",
   "id": "67a74b0f",
   "metadata": {},
   "source": [
    "## Dados legais :))"
   ]
  },
  {
   "cell_type": "markdown",
   "id": "fdcc14e3",
   "metadata": {},
   "source": [
    "### Tinder ou teste de personalidade"
   ]
  },
  {
   "cell_type": "markdown",
   "id": "f1f45afe",
   "metadata": {},
   "source": [
    "Aparentemente gostar de azeitona não é um desvio de caráter como eu pensava :\\"
   ]
  },
  {
   "cell_type": "code",
   "execution_count": 112,
   "id": "c894075e",
   "metadata": {},
   "outputs": [
    {
     "name": "stdout",
     "output_type": "stream",
     "text": [
      "Os dados obtidos são: [1.0, 1.0, 1.0, 1.0, 1.0, 1.0, 2.0, 2.0, 3.0, 3.0, 3.0, 3.0, 3.0, 3.0, 3.0, 3.0, 4.0, 4.0, 4.0, 4.0, 4.0, 4.0, 4.0, 5.0, 5.0, 5.0, 5.0, 5.0, 5.0, 5.0, 5.0, 5.0, 5.0, 5.0, 5.0]\n",
      "O menor dado obtido é: 1.0.\n",
      "O maior dados obtido é: 5.0.\n",
      " A média dos dados obtidos é: 3.4857142857142858.\n",
      "A mediana dos dados obtidos é: 4.0.\n",
      "A moda dos dados obtidos é: 5.0.\n",
      "A variância dos dados obtidos é 2.0783673469387756.\n",
      "O desvio padrão dos dados obtidos é 1.4416543784620417\n"
     ]
    },
    {
     "data": {
      "text/plain": [
       "Text(0, 0.5, 'Valor')"
      ]
     },
     "execution_count": 112,
     "metadata": {},
     "output_type": "execute_result"
    },
    {
     "data": {
      "image/png": "[encoded data removed]",
      "text/plain": [
       "<Figure size 640x480 with 1 Axes>"
      ]
     },
     "metadata": {},
     "output_type": "display_data"
    }
   ],
   "source": [
    "#Estatística descritivas do gosto por azeitonas\n",
    "\n",
    "stats_quant(azeitona)\n",
    "\n",
    "azeit_graf = sns.boxplot(y=azeitona)\n",
    "azeit_graf.set_xlabel(\"Variável aleatória\")\n",
    "azeit_graf.set_ylabel(\"Valor\")"
   ]
  },
  {
   "cell_type": "code",
   "execution_count": 113,
   "id": "ce6c24fa",
   "metadata": {
    "scrolled": true
   },
   "outputs": [
    {
     "data": {
      "text/plain": [
       "Text(0.5, 1.0, 'Gosto por azeitona dos estudantes da turma 24 da Ilum')"
      ]
     },
     "execution_count": 113,
     "metadata": {},
     "output_type": "execute_result"
    },
    {
     "data": {
      "image/png": "[encoded data removed]",
      "text/plain": [
       "<Figure size 640x480 with 1 Axes>"
      ]
     },
     "metadata": {},
     "output_type": "display_data"
    }
   ],
   "source": [
    "#https://matplotlib.org/stable/api/_as_gen/matplotlib.pyplot.pie.html\n",
    "cont0=0\n",
    "cont1 = 0\n",
    "cont2=0\n",
    "cont3=0\n",
    "cont4=0\n",
    "cont5=0\n",
    "for i in azeitona:\n",
    "    if i == 0.0:\n",
    "        cont0+=1\n",
    "    elif i== 1:\n",
    "        cont1 +=1\n",
    "    elif i== 2:\n",
    "        cont2 +=1\n",
    "    elif i== 3:\n",
    "        cont3 +=1\n",
    "    elif i== 4:\n",
    "        cont4 +=1\n",
    "    elif i== 5:\n",
    "        cont5 +=1\n",
    "plt.pie([cont0,cont1,cont2,cont3,cont4,cont5], labels = [\"0\",\"1\",\"2\",\"3\",\"4\",\"5\"], colors= [\"darkred\",\"red\", \"orange\", \"yellow\", \"greenyellow\", \"green\"], autopct=\"%1.1f%%\")\n",
    "plt.title(\"Gosto por azeitona dos estudantes da turma 24 da Ilum\")"
   ]
  },
  {
   "cell_type": "markdown",
   "id": "7c90052a",
   "metadata": {},
   "source": [
    "### GLBT\n"
   ]
  },
  {
   "cell_type": "code",
   "execution_count": 114,
   "id": "89dd6ac9",
   "metadata": {},
   "outputs": [
    {
     "name": "stdout",
     "output_type": "stream",
     "text": [
      "['Verde', 'Azul', 'Vermelho', 'Preto', 'Azul', 'Roxo', 'Azul', 'Azul', 'Azul', 'Azul', 'Vermelho', 'Azul', 'Rosa', 'Vermelho', 'Preto', 'Azul', 'Roxo', 'Amarelo', 'Vermelho', 'Azul', 'Verde', 'Azul', 'Roxo', 'Cinza', 'Azul', 'Azul', 'Roxo', 'Roxo', 'Vermelho', 'Rosa', 'Verde', 'Vermelho', 'Roxo', 'Roxo', 'Roxo']\n",
      "Azul\n"
     ]
    },
    {
     "data": {
      "image/png": "[encoded data removed]",
      "text/plain": [
       "<Figure size 640x480 with 1 Axes>"
      ]
     },
     "metadata": {},
     "output_type": "display_data"
    }
   ],
   "source": [
    "cor_mode = st.mode(cor)\n",
    "print(cor)\n",
    "print(cor_mode)\n",
    "\n",
    "lista_cores = [\"Vermelho\",\"Azul\",\"Verde\",\"Amarelo\",\"Roxo\",\"Laranja\", \"Rosa\", \"Marrom\", \"Preto\", \"Branco\", \"Cinza\"]\n",
    "\n",
    "red = 0\n",
    "blue = 0\n",
    "green = 0\n",
    "yellow = 0\n",
    "purple = 0\n",
    "orange = 0\n",
    "pink = 0\n",
    "brown = 0\n",
    "black = 0\n",
    "white = 0\n",
    "grey = 0\n",
    "for i in cor:\n",
    "    if i == \"Vermelho\":\n",
    "        red +=1\n",
    "    elif i == \"Azul\":\n",
    "        blue+=1\n",
    "    elif i == \"Verde\":\n",
    "        green +=1\n",
    "    elif i == \"Amarelo\":\n",
    "        yellow += 1\n",
    "    elif i == \"Roxo\":\n",
    "        purple+=1\n",
    "    elif i == \"Laranja\":\n",
    "        orange +=1\n",
    "    elif i == \"Rosa\":\n",
    "        pink +=1\n",
    "    elif i == \"Marrom\":\n",
    "        brown +=1\n",
    "    elif i == \"Preto\":\n",
    "        black+=1\n",
    "    elif i == \"White\":\n",
    "        white +=1\n",
    "    elif i == \"Cinza\":\n",
    "        grey += 1\n",
    "         \n",
    "plt.pie([red, blue, green, yellow, purple, orange, pink, brown, black, white, grey], labels= lista_cores,colors = [\"red\",\"blue\",\"green\",\"yellow\",\"purple\",\"orange\",\"pink\",\"brown\",\"black\",\"white\",\"grey\"],autopct=\"%1.1f%%\")\n",
    "plt.title(\"Cor favorita dos estudantes da turma 24 da Ilum\")\n",
    "plt.show()"
   ]
  },
  {
   "cell_type": "markdown",
   "id": "59f97d27",
   "metadata": {},
   "source": [
    "### O Melhor amigo"
   ]
  },
  {
   "cell_type": "code",
   "execution_count": 115,
   "id": "0f9227a8",
   "metadata": {},
   "outputs": [
    {
     "name": "stdout",
     "output_type": "stream",
     "text": [
      "['Gatos!', 'Cachorros!', 'Cachorros!', 'Gatos!', 'Cachorros!', 'Gatos!', 'Cachorros!', 'Gatos!', 'Gatos!', 'Gatos!', 'Gatos!', 'Cachorros!', 'Cachorros!', 'Cachorros!', 'Gatos!', 'Cachorros!', 'Gatos!', 'Gatos!', 'Gatos!', 'Gatos!', 'Cachorros!', 'Cachorros!', 'Gatos!', 'Cachorros!', 'Cachorros!', 'Gatos!', 'Gatos!', 'Gatos!', 'Cachorros!', 'Cachorros!', 'Gatos!', 'Cachorros!', 'Cachorros!', 'Gatos!', 'Cachorros!']\n"
     ]
    },
    {
     "data": {
      "text/plain": [
       "([<matplotlib.patches.Wedge at 0x20d7c72b810>,\n",
       "  <matplotlib.patches.Wedge at 0x20d7c718f90>],\n",
       " [Text(-0.04935141333170312, 1.0988923687068555, 'Gatos (18 votos)'),\n",
       "  Text(0.04935151621743131, -1.098892364086238, 'Cachorros (17 votos)')],\n",
       " [Text(-0.026918952726383515, 0.5993958374764665, '51.4%'),\n",
       "  Text(0.02691900884587162, -0.5993958349561297, '48.6%')])"
      ]
     },
     "execution_count": 115,
     "metadata": {},
     "output_type": "execute_result"
    },
    {
     "data": {
      "image/png": "[encoded data removed]",
      "text/plain": [
       "<Figure size 640x480 with 1 Axes>"
      ]
     },
     "metadata": {},
     "output_type": "display_data"
    }
   ],
   "source": [
    "gato=0\n",
    "cao=0\n",
    "for i in cao_gato:\n",
    "    if i == \"Cachorros!\":\n",
    "        cao+=1\n",
    "    elif i == \"Gatos!\":\n",
    "        gato +=1\n",
    "   \n",
    "print(cao_gato)\n",
    "plt.pie([gato,cao], labels = [f\"Gatos ({gato} votos)\", f\"Cachorros ({cao} votos)\"], colors= [\"blue\", \"red\"], autopct=\"%1.1f%%\")\n",
    "#plt.title(\"Gosto por azeitona dos estudantes da turma 24 da Ilum\")"
   ]
  },
  {
   "cell_type": "markdown",
   "id": "207aa8cd",
   "metadata": {},
   "source": [
    "### 7 é o número mágico"
   ]
  },
  {
   "cell_type": "markdown",
   "id": "8036e299",
   "metadata": {},
   "source": [
    "Aqui, o ponto mais interessante a se observar é a grande incidencia de números ímpares, e não apenas ímpares, mas também muitos primos ou múltiplos de \"primos grandes\" (com 2 ou mais dígitos), e, indo além, a grande incidência do algarismo 7, seja diretamente ou como múltiplo. É interessante observar também a lacuna de escolhas entre 42 e 60, a faixa central do intervalo, o que pode indicar como o conceito de aleatoriedade é percebido - fugindo do central, da média (posso ter dado uma brisada aqui)."
   ]
  },
  {
   "cell_type": "code",
   "execution_count": 116,
   "id": "3d9cdee4",
   "metadata": {},
   "outputs": [
    {
     "name": "stdout",
     "output_type": "stream",
     "text": [
      "Os dados obtidos são: [7, 7, 7, 7, 7, 8, 13, 13, 13, 18, 18, 19, 20, 27, 29, 35, 36, 37, 38, 42, 60, 65, 69, 71, 72, 77, 77, 77, 77, 85, 85, 87, 89, 93, 97, 99]\n",
      "O menor dado obtido é: 7.\n",
      "O maior dados obtido é: 99.\n",
      " A média dos dados obtidos é: 46.69444444444444.\n",
      "A mediana dos dados obtidos é: 37.5.\n",
      "A moda dos dados obtidos é: 7.\n",
      "A variância dos dados obtidos é 1020.1566358024692.\n",
      "O desvio padrão dos dados obtidos é 31.939890979815026\n"
     ]
    },
    {
     "data": {
      "text/plain": [
       "[<matplotlib.lines.Line2D at 0x20d7c65be90>]"
      ]
     },
     "execution_count": 116,
     "metadata": {},
     "output_type": "execute_result"
    },
    {
     "data": {
      "image/png": "[encoded data removed]",
      "text/plain": [
       "<Figure size 640x480 with 1 Axes>"
      ]
     },
     "metadata": {},
     "output_type": "display_data"
    }
   ],
   "source": [
    "#Gráfico dos números aleatórios\n",
    "stats_quant(n_ate_100)\n",
    "plt.scatter(sorted(n_ate_100), x_data, color = \"darkgrey\")\n",
    "plt.plot( sorted(n_ate_100), x_data,color = \"darkgrey\")"
   ]
  }
 ],
 "metadata": {
  "kernelspec": {
   "display_name": "Python 3 (ipykernel)",
   "language": "python",
   "name": "python3"
  },
  "language_info": {
   "codemirror_mode": {
    "name": "ipython",
    "version": 3
   },
   "file_extension": ".py",
   "mimetype": "text/x-python",
   "name": "python",
   "nbconvert_exporter": "python",
   "pygments_lexer": "ipython3",
   "version": "3.11.5"
  }
 },
 "nbformat": 4,
 "nbformat_minor": 5
}
